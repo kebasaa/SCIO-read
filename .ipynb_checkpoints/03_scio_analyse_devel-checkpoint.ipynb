{
 "cells": [
  {
   "cell_type": "markdown",
   "id": "4493f2ef-302d-4924-b8cf-72678d653dc7",
   "metadata": {
    "tags": []
   },
   "source": [
    "# Python library for the analysis of raw data from the SCiO\n",
    "\n",
    "Note: The SCiO spectrometer is manufactured by Consumer Physics\n",
    "\n",
    "### Questions regarding decoding:\n",
    "\n",
    "- How many datapoints are there? 331 or 400? 400*4=\n",
    "- What are the remaining data bytes?\n",
    "- Is the data encrypted?\n",
    "- Is the data gzipped?\n"
   ]
  },
  {
   "cell_type": "code",
   "execution_count": null,
   "id": "67005b5a-8221-45ef-ba05-24f187824037",
   "metadata": {},
   "outputs": [],
   "source": [
    "import json\n",
    "import struct\n",
    "import datetime\n",
    "import os\n",
    "import csv\n",
    "import base64\n",
    "import numpy as np"
   ]
  },
  {
   "cell_type": "code",
   "execution_count": 19,
   "id": "888b6c86-1d8e-45f1-a6a0-28bcf1813905",
   "metadata": {},
   "outputs": [],
   "source": [
    "class scio_analyse:\n",
    "    def __init__(self):\n",
    "        self.device_info = {}\n",
    "        self.scan_rawdata = {}\n",
    "        self.calibration_data = {}\n",
    "        self.key = b''\n",
    "    \n",
    "    def parse_scan(self):\n",
    "        # Convert to bytes\n",
    "        sample_bytes          = base64.urlsafe_b64decode(self.scan_rawdata['sample']) \n",
    "        sample_dark_bytes     = base64.urlsafe_b64decode(self.scan_rawdata['sample_dark'])\n",
    "        sample_gradient_bytes = base64.urlsafe_b64decode(self.scan_rawdata['sample_gradient'])\n",
    "        \n",
    "        # Same for calibration\n",
    "        sample_cal_bytes          = base64.urlsafe_b64decode(self.calibration_data['sample']) \n",
    "        sample_dark_cal_bytes     = base64.urlsafe_b64decode(self.calibration_data['sample_dark'])\n",
    "        sample_gradient_cal_bytes = base64.urlsafe_b64decode(self.calibration_data['sample_gradient'])\n",
    "        \n",
    "        # Decode\n",
    "        sample_raw          = np.array(struct.unpack('>4x400I196x', sample_bytes))\n",
    "        sample_dark_raw     = np.array(struct.unpack('>4x400I196x', sample_dark_bytes))\n",
    "        sample_gradient_raw = np.array(struct.unpack('>4x400I52x',  sample_gradient_bytes))\n",
    "        sample_cal          = np.array(struct.unpack('>4x400I196x', sample_cal_bytes))\n",
    "        sample_dark_cal     = np.array(struct.unpack('>4x400I196x', sample_dark_cal_bytes))\n",
    "        sample_gradient_cal = np.array(struct.unpack('>4x400I52x',  sample_gradient_cal_bytes))\n",
    "        \n",
    "        # Calculate reflectance\n",
    "        corrected_sample_raw   = sample_raw - sample_dark_raw\n",
    "        corrected_gradient_raw = sample_gradient_raw - sample_dark_raw\n",
    "        reflectance_raw        = corrected_sample_raw / corrected_gradient_raw\n",
    "        corrected_sample_cal   = sample_cal - sample_dark_cal\n",
    "        corrected_gradient_cal = sample_gradient_cal - sample_dark_cal\n",
    "        reflectance_cal        = corrected_sample_cal / corrected_gradient_cal\n",
    "        \n",
    "        # Calibration\n",
    "        reflectance = reflectance_raw / reflectance_cal\n",
    "        \n",
    "        return(reflectance)\n",
    "    \n",
    "    def parse_scan_nocal(self, scan_raw):\n",
    "        # Convert to bytes\n",
    "        sample_bytes          = base64.b64decode(scan_raw['sample']) \n",
    "        sample_dark_bytes     = base64.b64decode(scan_raw['sample_dark'])\n",
    "        sample_gradient_bytes = base64.b64decode(scan_raw['sample_gradient'])\n",
    "        \n",
    "        # Decode\n",
    "        sample          = np.array(struct.unpack('<4x400I196x', sample_bytes))\n",
    "        sample_dark     = np.array(struct.unpack('<4x400I196x', sample_dark_bytes))\n",
    "        sample_gradient = np.array(struct.unpack('<4x400I52x',  sample_gradient_bytes))\n",
    "        \n",
    "        # Calculate reflectance\n",
    "        corrected_sample   = sample - sample_dark\n",
    "        corrected_gradient = sample_gradient - sample_dark\n",
    "        reflectance        = corrected_sample / corrected_gradient\n",
    "        \n",
    "        return(reflectance)\n",
    "    \n",
    "    def load_calibration_file(self, calibration_fn = 'calibration.json'):\n",
    "        info, data = self.load_file(calibration_fn)\n",
    "        # Store information\n",
    "        self.device_info = info\n",
    "        self.calibration_data = data\n",
    "        return\n",
    "    \n",
    "    def load_data_file(self, data_fn):\n",
    "        info, data = self.load_file(data_fn)\n",
    "        # Store information\n",
    "        self.device_info = info\n",
    "        self.scan_rawdata = data\n",
    "        return\n",
    "    \n",
    "    def load_file(self, fn):\n",
    "        # Load the JSON file\n",
    "        with open(fn, 'r') as file:\n",
    "            json_data = json.load(file)\n",
    "\n",
    "        # Load the \"scan\" object\n",
    "        data = json_data['scan']\n",
    "        \n",
    "        # Load the device information object\n",
    "        info = json_data['device']\n",
    "        \n",
    "        return(info, data)\n",
    "    \n",
    "    def load_log_data(self, fn):\n",
    "        # Load the JSON file\n",
    "        with open(fn, 'r') as file:\n",
    "            json_data = json.load(file)\n",
    "\n",
    "        # Load the device information object\n",
    "        self.device_info = json_data['device']\n",
    "        \n",
    "        # Hex string\n",
    "        hex_data = json_data['raw_data']\n",
    "        # B64 string\n",
    "        b64_data = json_data['b64_data']\n",
    "        # Final spectrum\n",
    "        spec_data = json_data['spec_data']\n",
    "        # Convert to list\n",
    "        spec_data = [float(x) for x in spec_data[1:-1].split(',')]\n",
    "        \n",
    "        return(hex_data, b64_data, spec_data)\n",
    "    \n",
    "    def run_parsing(self, data_fn, calibration_fn, silent=True):\n",
    "        # Load calibration file\n",
    "        self.load_calibration_file(calibration_fn)\n",
    "        # Load data file\n",
    "        self.load_data_file(data_fn)\n",
    "        # Parse data\n",
    "        reflectance = self.parse_scan()\n",
    "        return(reflectance)\n",
    "    \n",
    "    def run_parsing_test(self, data_fn, calibration_fn, silent=True):\n",
    "        # Load calibration file\n",
    "        self.load_calibration_file(calibration_fn)\n",
    "        # Load data file\n",
    "        self.load_data_file(data_fn)\n",
    "        # Convert to bytes\n",
    "        sample_bytes          = base64.b64decode(self.scan_rawdata['sample']) \n",
    "        sample_dark_bytes     = base64.b64decode(self.scan_rawdata['sample_dark'])\n",
    "        sample_gradient_bytes = base64.b64decode(self.scan_rawdata['sample_gradient'])\n",
    "        return(sample_bytes.hex())\n",
    "    \n",
    "    def run_log_parsing_test(self, data_fn, silent=True):\n",
    "        # Load data file\n",
    "        hex_data, b64_data, spec_data = self.load_log_data(data_fn)\n",
    "        # Convert to bytes\n",
    "        sample_bytes          = base64.b64decode(b64_data['sample']) \n",
    "        sample_dark_bytes     = base64.b64decode(b64_data['sample_dark'])\n",
    "        sample_gradient_bytes = base64.b64decode(b64_data['sample_gradient'])\n",
    "        return(hex_data, b64_data, spec_data)\n",
    "    \n",
    "    # Generic, for testing\n",
    "    def test_parse_response(self, response_data_raw):\n",
    "        # Parse response\n",
    "        print('As hex:', response_data_raw[2].hex())\n",
    "        print(len(response_data_raw[2]))\n",
    "        \n",
    "        data_struct = '<4I' # File list\n",
    "        resp = list(struct.unpack(data_struct, response_data_raw[2]))\n",
    "        print(resp)\n",
    "        file_list = {}\n",
    "        for file_nb in range(0, int(len(resp)/2)):\n",
    "            if((resp[file_nb*2] >= 87) & (resp[file_nb*2] <= 95)):\n",
    "                file_list.update({file_nb:{'file_type':resp[file_nb*2], 'file_version':resp[file_nb*2+1]}})\n",
    "                key_start_byte = file_nb*8\n",
    "                key_end_byte   = file_nb*8+4\n",
    "                val_start_byte = file_nb*8+4\n",
    "                val_end_byte   = file_nb*8+8\n",
    "                attr = {'key':response_data_raw[2][key_start_byte:key_end_byte].hex(),\n",
    "                        'value':response_data_raw[2][val_start_byte:val_end_byte].hex()}\n",
    "                file_list.update({file_nb:attr})\n",
    "            else:\n",
    "                attr = {'file_type':resp[file_nb*2], 'file_version':resp[file_nb*2+1]}\n",
    "                file_list.update({file_nb:attr})\n",
    "            pass\n",
    "        \n",
    "        return(resp)"
   ]
  },
  {
   "cell_type": "code",
   "execution_count": 20,
   "id": "44a7e31e-904c-4dc9-844d-a96993f7cc68",
   "metadata": {},
   "outputs": [
    {
     "name": "stdout",
     "output_type": "stream",
     "text": [
      "Done...\n"
     ]
    },
    {
     "data": {
      "image/png": "[encoded data removed]",
      "text/plain": [
       "<Figure size 640x480 with 1 Axes>"
      ]
     },
     "metadata": {},
     "output_type": "display_data"
    },
    {
     "name": "stdout",
     "output_type": "stream",
     "text": [
      "\n"
     ]
    },
    {
     "data": {
      "image/png": "[encoded data removed]",
      "text/plain": [
       "<Figure size 640x480 with 1 Axes>"
      ]
     },
     "metadata": {},
     "output_type": "display_data"
    },
    {
     "name": "stdout",
     "output_type": "stream",
     "text": [
      "\n"
     ]
    }
   ],
   "source": [
    "calibration_fn = './calibration.json'\n",
    "#data_fn        = './01_rawdata/log_extracted/scan_from_log_20200604_143721.json' # Tree bark\n",
    "data_fn        = './01_rawdata/log_extracted/scan_from_log_20211020_105957.json' # Skin\n",
    "\n",
    "# Now set up device\n",
    "scio = scio_analyse() # Create an instance for this device address\n",
    "\n",
    "#scio.load_calibration_file()\n",
    "#print(scio.calibration_data)\n",
    "\n",
    "#refl = scio.run_parsing(data_fn, calibration_fn, silent=False)\n",
    "#print(refl)\n",
    "\n",
    "hex_data, b64_data, spec_data = scio.run_log_parsing_test(data_fn, silent=False)\n",
    "\n",
    "sample_b64 = base64.urlsafe_b64decode(b64_data['sample']).hex()\n",
    "\n",
    "refl = scio.parse_scan_nocal(b64_data)\n",
    "\n",
    "#print('From B64:', sample_b64)\n",
    "#print('From raw:', hex_data['sample'])\n",
    "\n",
    "print('Done...')\n",
    "\n",
    "# Show figure of reflectance from LOG\n",
    "x_data = list(range(740, 1071, 1))\n",
    "\n",
    "from plotnine import *\n",
    "plt = ggplot()\n",
    "plt = plt + geom_line(aes(x=x_data, y=spec_data))\n",
    "plt = plt + geom_point(aes(x=x_data, y=spec_data), size=0.5)\n",
    "plt = plt + theme_bw()\n",
    "print(plt)\n",
    "\n",
    "\n",
    "\n",
    "# Show figure of raw data\n",
    "x_data = list(range(700, 1100, 1))\n",
    "\n",
    "from plotnine import *\n",
    "plt = ggplot()\n",
    "plt = plt + geom_line(aes(x=x_data, y=refl))\n",
    "plt = plt + geom_point(aes(x=x_data, y=refl), size=0.5)\n",
    "plt = plt + theme_bw()\n",
    "print(plt)"
   ]
  },
  {
   "cell_type": "code",
   "execution_count": null,
   "id": "a0ba185f-d58c-427e-89f5-092de1f62bbb",
   "metadata": {},
   "outputs": [],
   "source": []
  },
  {
   "cell_type": "code",
   "execution_count": null,
   "id": "401f8923-1f04-4ff9-b6a5-030f29813b3e",
   "metadata": {},
   "outputs": [],
   "source": [
    "print(struct.unpack('>H', bytes.fromhex('0290')))\n",
    "print(struct.unpack('<H', bytes.fromhex('0807')))"
   ]
  },
  {
   "cell_type": "code",
   "execution_count": null,
   "id": "b13c0c14-c56b-4438-ab0a-406f8aa92e85",
   "metadata": {},
   "outputs": [],
   "source": [
    "test_sample = 'AAAAAEPShV3QZQkQrEMaGczSBHmRAx9vvYWQf5CT3uxpVhfFfJVOz5jTJXqC0cvvR8z9ywCFQEOOoVecSgCpfmu2u9sprzJi9N3htTaj3d4fZncKBXdP1qaEpJsrpMgW1atr1cl49I5GqzNpe7TswE1mYpExw9S_La4DBPEclViGqG2tPRGBmmsSINmXIAQuqArHACwktkEwdtYU91tHXvFkSTaqOMK6r7oVR5sJJ0WnhwOauXg1ww0Si1GMmGrmA2gGp-nlC1FEb3Qlv2Fe7mA7H4OHpQU6Mam82o9ERRN5p24wdDD7jdDIRSdYTNWJv842wNjJ4ccQzts2H_exdWJueUUQ5uraXMhIbOnutdiu2KB8hwpjI1CRI8K4SfJnP9faFN7rDqHc_8oNP-cSZdPBT7BBRBkOWIArV8h0kyQJ3xSKp9ix1s8hbVOUzqCFBizipgKprpsfepL_XCZw__xKv_89QegFDzaSQzMatCUtWytFXN906IqLj2Lh89omtYzasvxYlSA2FC2pdp3NnoPnVk6Tbofg4qouWDxEUlZcsd_fbUgd3zQZeveToG4MiNcmAIUIM8xpnJXeAIDiHkEliSpSrzLIsjeSCZT_S_8YIsUDYDSHDd6D7UZ-0cMNOqNkWu-nLN8Gn5D7CVRmZkZLlfqASh57O2fw77u_Xm1-xmRFOeyxLxqo-IeVy70Dl5csbv5hBCTMn7uWwTywJzZ9vCUg_cjTqPMwO0wKcJCkeVja2H0SvrP-v0AJDpp7XOxGmGmWyzmfwR95N9gHscLKV2_atWGii7XIws2kO7gfgi0QmiFnMLxupvJztHdqeGCKSDkJ_2OEQ9nb2xdCT9M12swTLyRs2ebiExE3Wg6p7_xXDUbgRcA_nAOeHo_cByeJrRWZGP-LoBPCD47Qc8KnwSWhjmMRUxx-TEzjm_oUyNIT1ADtc_olU0Uo82bX39rOMN0-ASMGnzRtvEBl2tampw7GLqHxL4GPsoHncaSdjU258VapGM_NnbrsHtP4QmS-VkrAFcCG1aBM7wg6IjoGiDIW1ltpAq9dHRLs4qHI_1LeplRhVcK1HWG3d_QJfUM0YVQTJXAOA7SCD4KMrTO_eNDRf5Y5KnYmjsHM944QrGHnkB0-RbqwY_L641a7-wjowsGUTYDOneVDUw08_Tsbee_cdUXY0ZKSZn7Ojn916tFY1k2yE52dp-AvALI4ULazX-M8eSzcCyZhVjTV99meyK5TLTjmRrtIffu6A4mctLLnk-nQ0Qe8vka2E7uf7FAD_EfzxnjzMIViFsdMC3IzfTQPNRFF8_58dkt8pKftQF2I8aJVGiBiTWXqy9hMXdun9KvAI2uLB03qttJDezkuS0cNup35cdBke4hHrGyaeTmds4oVmVG2zxvHjRIsZ0NW7HuZYaBiGFxiyM4nDnJqmR5vImQczhFzcN9ACXbzqN_-ry-KZ50WFfEMt_r-eO7YTlsP_WTI-wgITFuoNNpXkYkv0m_VcgnyfGMoj77Kd8ZCQgG0bgtkhom8B_7icnzbV38Dc6Pa1gcuLCRVqD18ZwAPw5_FI7OM4H_6-zmaidTlTYbQ4fJIPcfUQF2EyIbhrEdMenXlosoOOd6gktr9wytydkQ4pqIjpqehJMyD0J4QxM1l080X_Meco1TgRZkfW-EakTCFyceqSGjNM9DXxHZJ-rl8GJzFuPyt58TV70nh5wGSgtxY2IDu7nTkykGZullY9l6IcskvdubPRnB9GpNDfgINOP-lqZQFY_xD2jOHDB0SsGh_YigOT5vv3ARN7O7WE9w8H9WJdtt1_sMeoLVgyzQFSz7dfzlpHPN6BgKNX-4B2yUBYZvrtZ-1iBPtWeH5kSDH34RCuslaX6iySbMx5RHqOlNPlx2y1TgIQ-3YTP9R8Z49_kiVn1XTdpvvBgOv2CWBSwXoP4hQuYWjqckDrsPO7jmvFR6FGfzKKNCfCO3F4ak3pr3hAK4pJs2wHgVHJ-Pe5tXWw0jXPWXZIx4l_cZnCbXoGvgc8QBpt8oj40w3r8uqqKcHzz7qr1PE_rnKaNamErxdMWoHf_qqLbHjIX7bmEFiJQooqZVE5INYTskOKpb-ar2ttEIztEPA_ylOW9kcAnHJNPzGIj4yALjQvqTat20_LALeoh6QGQs1okngMuQS8Kefd6lffi79WUt-YJvHjXL1HneXQRZl2fMTWK3T8TyYyL8-K38jzTwfz2L7xq9wcbYa4HkRuPInsteP1mY3KabgQQRRfG6FD0Gs3Ao7y0HbLbKfjY9LU3ZuN4PA_uqZPmVDVURRzTIpagnHJJkDvZLY4IYwnL--H1qWHLrwWqOntTYPTQPPkStDVoL_qiqsfroZYDgTWr-X5ADKpDumCaYHtZFrilDjzb-6vcUI'\n",
    "\n",
    "sample_bytes = base64.urlsafe_b64decode(test_sample)\n",
    "\n",
    "print(len(sample_bytes))\n",
    "print(sample_bytes.hex())\n",
    "\n",
    "test_sample = 'AAAAAOp1IDt2sDXjiCAmmKUIf8P-UY3KdjodURTElAeQz-_lyjx2QjNRB3wCMQTWamkIV-SLRWeG78QvxiRuSAH2Ayk8mvdE4081PSSL5D-IF2SGJQnJxO9ZTKFOFUbF_0-_txCL670XhA4nV2fCd9q91He_TWyPmSJgkAMfXsfV1qMa8JYVcdLorUfLMNuO-3Q-Odicl_p65vHLimE7RVdvpoM46o41KZOc_Qnrhrtph-R4bd0iw8ThPYb-cHMJNSIuUqbtxx3n509jGTJaBclTJsFSi_VDPQ700vbZRn2bEmHJUAr3O5KXD3BziwZQw844qlwRR6sixZVy3CSfZ1AcJz0nseZn4VfVQ_CwlJLA_9ly4z8YhOKeWcpdEuTeyut2lAlWba8HLnonzMvJmlEy_LAXnUDZp_pndJlhBh8GQXxbr4Z57idajD-n5PjCzxXFAhYVp2IFhw1Iv8tSpf8iPZ9Hu_u3udMke0lrxo6WojdoZjEI9tX8mYXvxclK7a52RgJ3L0HBBuPy10YWNdWsYgo3H2UYAJ_XrYZxO4VMRH7B3NS_zH_J8hS6w8mW_9hXpgNeTV7zdoHO819FTkkcXIthwwLfcomVatcGQcoBGuVx4FCb5hKa8tjj3f96aAjuvGJ8O-VAELU8RBq7AvSumzvr8qVGb1J5PQVeZRowx3sqwK4YWbqS1imDhfTwp2J-JQgfTrIreaQ234P_Uzeofk1mLB7i32ameWG0J6HsixanjwKjXpO7Deywp0aMUDqHYO-nULwo3Rjw_4W4m91H6Rit_H3-u3EGX89xHssqdwtjgDJCfH_zcxn5xnLM8WqBRzNOdCTXnoO5LwB4vBPItwfvqYkFlZYDLh3gDbRiXEIKYpD5GIO_cZd2lexL0WfeD_wcuq3LpuCTlIxeP_8xyBt_rfrSN4G3mD6YyZJr6asqStehI_3JapQkpy6BnyldUYs50CVcXGdv45Ere57EBTKIiE3ze4KkiN1eAG5wp2LTriQdLC9R4Ia0RIPqohAXF3XFyAXX77ZdaQSnhqcq8RvVv_aUfiBTYaEdVYnmW9MhOYTMeKDfC262oF5ImwZTr81OJPtQi6-JjpFBMXfoe8O0ojY1HZeS4fCj0ruAFkFp2SIr1sVFMIlrD5FPVM_5NLfBoX_0iwLVqspycyzFrcWZp6HZdxnIiqfDVYq0G3CLYhOpG8dqNJdQcdmPXZHMTh6Ba7f6oAPEXFFWxUVbaIaq_gudtjParQCE6q-Ucuwk-gWniicvR0p0H7I2WqgvabxVAG192aA7iaCcSddKOZiL8wPoB_ORHy5s-UG-1l-1GJdiEQemJ6ml0w24XWQIBbcAF9Mb1UgHe3yi9n2sixsyti0Wzu5wlQys-YEVjHMW4ggJ6d-55MG0ff05KYvgo0bGElASmu7krMa6fAOr8IPq9YTWZsfrkvrRGvxE2HuPbGetwTvvPPm0OZOY2P5gkoR2ozg2d161Zh-15OyxCvObcBfskH7a7t3b1OyqY8He8cH0qJhb3BVHsv3odVXKZzydItqX5NzEOZ7bsPJ_56CuRa1e3AW-98MoaIoaHO80OrbSg6COhdA0uBuYak1_5ekestdwpIsNWW2P451bcYSCUrw7HcXKMahPk99GRatZYGCp4LzEWrXSwVsRse4F9u_ezZKpLoxyjn_8mw4QL-75qPKdptemyfwUHrpdmnJjctW0SSzeyztucwTnkeKvcpLHblpXbC1-9eCPYDlXua-WmHkVX1XzL9B_sAqpr1TJJW6fUG1mqDNJ8PwCZWBQJRgx3ICds9itU1LPlkhhdbFwtPdhNkaeIB7CGij3MPTQdlle_eBWUC8c-R9cHDz5KceAe2mLsTAZqp6P1o-x9aX_ayzK'\n",
    "\n",
    "sample_bytes = base64.urlsafe_b64decode(test_sample)\n",
    "\n",
    "print(len(sample_bytes))\n",
    "print(sample_bytes.hex())"
   ]
  },
  {
   "cell_type": "code",
   "execution_count": null,
   "id": "85d53842-6755-40c8-8c87-8c32dd21d4a3",
   "metadata": {},
   "outputs": [],
   "source": []
  },
  {
   "cell_type": "code",
   "execution_count": 12,
   "id": "590638b2-cac5-46a8-b348-5a68a2a74221",
   "metadata": {},
   "outputs": [
    {
     "name": "stdout",
     "output_type": "stream",
     "text": [
      "1600\n",
      "56\n",
      "200\n"
     ]
    },
    {
     "data": {
      "text/plain": [
       "100.0"
      ]
     },
     "execution_count": 12,
     "metadata": {},
     "output_type": "execute_result"
    }
   ],
   "source": [
    "print(400*4)\n",
    "print(1656 - 400*4)\n",
    "print(1800 - 400*4)\n",
    "\n",
    "# encryption is alway in blocks of 16 bytes\n",
    "1600/16"
   ]
  },
  {
   "cell_type": "code",
   "execution_count": 14,
   "id": "2b37508e-26e0-4e54-9390-b78eeefd1c22",
   "metadata": {},
   "outputs": [
    {
     "name": "stdout",
     "output_type": "stream",
     "text": [
      "1324\n",
      "332\n",
      "476\n"
     ]
    }
   ],
   "source": [
    "print(331*4)\n",
    "print(1656 - 331*4)\n",
    "print(1800 - 331*4)"
   ]
  },
  {
   "cell_type": "code",
   "execution_count": 24,
   "id": "7eab3e22-e433-45f1-aa29-9a5789bc12ce",
   "metadata": {},
   "outputs": [
    {
     "data": {
      "text/plain": [
       "225.0"
      ]
     },
     "execution_count": 24,
     "metadata": {},
     "output_type": "execute_result"
    }
   ],
   "source": [
    "(1800/8)"
   ]
  },
  {
   "cell_type": "code",
   "execution_count": null,
   "id": "09f24b4f-38f1-4b3a-8bbe-7503f57d742f",
   "metadata": {},
   "outputs": [],
   "source": []
  }
 ],
 "metadata": {
  "kernelspec": {
   "display_name": "scio",
   "language": "python",
   "name": "scio"
  },
  "language_info": {
   "codemirror_mode": {
    "name": "ipython",
    "version": 3
   },
   "file_extension": ".py",
   "mimetype": "text/x-python",
   "name": "python",
   "nbconvert_exporter": "python",
   "pygments_lexer": "ipython3",
   "version": "3.10.9"
  }
 },
 "nbformat": 4,
 "nbformat_minor": 5
}
