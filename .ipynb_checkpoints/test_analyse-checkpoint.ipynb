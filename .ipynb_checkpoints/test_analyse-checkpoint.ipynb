{
 "cells": [
  {
   "cell_type": "markdown",
   "id": "bfb866c9-d7a6-4f6f-8a2a-ebbe9bb85c61",
   "metadata": {},
   "source": [
    "# Analyse test SCIO data"
   ]
  },
  {
   "cell_type": "markdown",
   "id": "eb6a7d95-980e-4bc3-96bc-bc958d1ab0cf",
   "metadata": {},
   "source": [
    "## Rationale\n",
    "\n",
    "To calculate the absorbance spectrum, use the following formula:\n",
    "\n",
    "$A = -log10((S - D - G) / (SW - SWD - SWG))$\n",
    "\n",
    "Where:\n",
    "\n",
    "- A is the absorbance spectrum\n",
    "- S is the sample spectrum\n",
    "- D is the sample dark spectrum\n",
    "- G is the sample gradient spectrum\n",
    "- SW is the sample white spectrum\n",
    "- SWD is the sample white dark spectrum\n",
    "- SWG is the sample white gradient spectrum\n",
    "\n",
    "The subtractions and divisions above are part of a common data preprocessing step in spectrophotometry called baseline correction. The idea is to remove any contributions to the measured signal that are not due to the sample itself, but rather due to the instrument or the surrounding environment. This helps to enhance the accuracy and reliability of the measurements, particularly in the presence of noise or other sources of variability.\n",
    "\n",
    "The specific steps involved in baseline correction can vary depending on the particular instrument and experimental setup, but some common approaches include:\n",
    "\n",
    "- Subtracting a background or reference spectrum, such as a dark spectrum or a blank sample, to remove any contributions from the instrument or the surrounding environment.\n",
    "- Dividing the sample spectrum by a reference spectrum, such as a white or standard spectrum, to correct for any variations in the intensity or wavelength response of the instrument.\n",
    "- Applying mathematical transformations, such as smoothing or differentiation, to remove any high-frequency noise or artifacts in the data.\n",
    "\n",
    "In the specific example given above, the baseline correction involves subtracting the dark and white spectra to remove any contributions from the instrument or the environment, and then dividing the sample and white spectra to correct for any variations in the instrument response. The resulting absorbance spectrum should represent the contribution of the sample alone, without any interference from other sources.\n",
    "\n",
    "The gradient spectrum is a measurement of how the intensity of the light changes over the wavelength range. It is typically measured by taking a set of measurements with a varying concentration of a sample, which allows one to calculate the slope of the absorbance vs. concentration curve at each wavelength. This is useful for determining the sensitivity of the spectrometer at different wavelengths, as well as for correcting for changes in the intensity of the light source over time. The gradient spectrum can be subtracted from the sample spectrum to correct for any changes in the intensity of the light source during the measurement."
   ]
  },
  {
   "cell_type": "code",
   "execution_count": null,
   "id": "54f97611-2788-4735-8898-4cc0b5d2d360",
   "metadata": {},
   "outputs": [],
   "source": [
    "import numpy as np\n",
    "\n",
    "def calculate_absorbance_spectrum(sample, sample_dark, sample_gradient, sample_white, sample_white_dark, sample_white_gradient):\n",
    "    # Subtract dark and gradient from sample\n",
    "    S = np.subtract(sample, sample_dark)\n",
    "    S = np.subtract(S, sample_gradient)\n",
    "\n",
    "    # Subtract dark and gradient from sample white\n",
    "    SW = np.subtract(sample_white, sample_white_dark)\n",
    "    SW = np.subtract(SW, sample_white_gradient)\n",
    "\n",
    "    # Calculate absorbance spectrum\n",
    "    A = -np.log10(np.divide(S, SW))\n",
    "\n",
    "    return A\n",
    "\n",
    "# This function first subtracts the dark and gradient spectra from the sample spectrum and the sample white spectrum.\n",
    "# It then calculates the absorbance spectrum using the formula above and returns it as output. Note that this\n",
    "# implementation assumes that the input spectra are numpy"
   ]
  },
  {
   "cell_type": "markdown",
   "id": "3da422f1-581f-492d-8a28-cfa7823dcd53",
   "metadata": {},
   "source": [
    "## Data extraction from raw\n",
    "\n",
    "- I have 331 values, and normally an int is 4 bytes, so should be 1324 bytes.\n",
    "- The sample and sample_dark contain 1800 bytes, the sample_gradient contains 1656 bytes\n",
    "- Gradient:\n",
    "  - If there is some sort of padding byte, then we get $331*4 + 331*1 = 1655$ bytes, containing 1 length byte (the first one)\n",
    "  - Alternatively, the first or last 331 bytes could be a different message of something\n",
    "- Main data:\n",
    "  - There are 4 empty padding bytes. Then we have 1796 bytes, which is not dividable by 16, i.e. could not be encrypted data. Unless the next few bytes are encrypted too?"
   ]
  },
  {
   "cell_type": "code",
   "execution_count": 1,
   "id": "44065a6b-955d-49dc-87a6-a3df62dda63a",
   "metadata": {},
   "outputs": [
    {
     "name": "stdout",
     "output_type": "stream",
     "text": [
      "141\n",
      "1792\n",
      "1648\n"
     ]
    }
   ],
   "source": [
    "print((1800-4) - 331*5)\n",
    "\n",
    "# Assuming encryption, both types have the first 8 bytes superfluous\n",
    "print(112*16)\n",
    "print(103*16)"
   ]
  },
  {
   "cell_type": "code",
   "execution_count": 16,
   "id": "4fe289c8-e4ad-4f05-9fb0-3ae2a7720521",
   "metadata": {},
   "outputs": [
    {
     "name": "stdout",
     "output_type": "stream",
     "text": [
      "8032AB45611198F1\n",
      "b'8032AB45611198F1'\n"
     ]
    }
   ],
   "source": [
    "# Could the device ID be the key?\n",
    "# Load JSON data from file\n",
    "with open('test_data.json') as f:\n",
    "    data = json.load(f)\n",
    "    \n",
    "print(data['device_id'])\n",
    "key = bytes(data['device_id'], 'latin-1')\n",
    "print(key)"
   ]
  },
  {
   "cell_type": "code",
   "execution_count": 25,
   "id": "f949268c-1eb1-4924-ba46-f6fb2e2f9a99",
   "metadata": {},
   "outputs": [
    {
     "name": "stdout",
     "output_type": "stream",
     "text": [
      "1792\n",
      "[0, 725015780, 4285835239, 1352506627, 3766104842, 4238958545, 1015800846]\n"
     ]
    }
   ],
   "source": [
    "import base64\n",
    "from Crypto.Cipher import AES\n",
    "\n",
    "# Get the base64 string from the 'sample' dataset\n",
    "b64_string = data['sample']\n",
    "\n",
    "# Decode the base64 string into bytes\n",
    "bytes_data = base64.b64decode(b64_string)\n",
    "\n",
    "# Create an AES cipher object with CTR mode\n",
    "cipher = AES.new(key, AES.MODE_CTR)\n",
    "\n",
    "# Decrypt the data\n",
    "decrypted_data = cipher.decrypt(bytes_data[8:])\n",
    "\n",
    "# Print the result\n",
    "#print(decrypted_data)\n",
    "print(len(decrypted_data))\n",
    "\n",
    "import struct\n",
    "# assume your bytes are in a variable called `data`\n",
    "start = 0  # skip the first 1 byte\n",
    "num_values = 331\n",
    "value_size = 4  # each value is 4 bytes\n",
    "separator_size = 1  # there is 1 byte separating each value\n",
    "fmt = f\">{separator_size}x{num_values}I\"  # use 'x' to skip the separator byte\n",
    "\n",
    "fmt=f'<IIIIIII'\n",
    "\n",
    "int_data = list(struct.unpack_from(fmt, bytes_data, start))\n",
    "#int_data = [x * 10**(-9) for x in int_data]\n",
    "\n",
    "# Print the first 10 integers\n",
    "print(int_data)"
   ]
  },
  {
   "cell_type": "code",
   "execution_count": 7,
   "id": "8405cafd-78b2-4f58-87eb-85335287f165",
   "metadata": {},
   "outputs": [
    {
     "name": "stdout",
     "output_type": "stream",
     "text": [
      "[0.4615061791382704, 0.4627825684869823, 0.46383626154697105, 0.4645163970814471, 0.46488336964132015, 0.4650472112244314, 0.465207393430775, 0.46549194913784925, 0.465916165833253, 0.4664145753122686]\n",
      "8032AB45611198F1\n",
      "1800\n",
      "13\n",
      "[0, 3839637035, 3886511359, 3, 2644332554, 51, 2061554015, 169, 4228834443, 60, 4060411553, 113, 968957412]\n"
     ]
    }
   ],
   "source": [
    "import json\n",
    "import base64\n",
    "\n",
    "with open('test_result.json') as f:\n",
    "    res = json.load(f)\n",
    "print(res['spectrum'][:10])\n",
    "\n",
    "# Load JSON data from file\n",
    "with open('test_data.json') as f:\n",
    "    data = json.load(f)\n",
    "    \n",
    "print(data['device_id'])\n",
    "\n",
    "# Get the base64 string from the 'sample' dataset\n",
    "b64_string = data['sample']\n",
    "\n",
    "# Decode the base64 string into bytes\n",
    "bytes_data = base64.b64decode(b64_string)\n",
    "\n",
    "print(len(bytes_data))\n",
    "#print(bytes_data)\n",
    "\n",
    "\n",
    "import struct\n",
    "# assume your bytes are in a variable called `data`\n",
    "start = 0  # skip the first 1 byte\n",
    "num_values = 331\n",
    "value_size = 4  # each value is 4 bytes\n",
    "separator_size = 1  # there is 1 byte separating each value\n",
    "fmt = f\">{separator_size}x{num_values}I\"  # use 'x' to skip the separator byte\n",
    "\n",
    "fmt = f\">IIIBIBIBIBIBI\"\n",
    "\n",
    "int_data = list(struct.unpack_from(fmt, bytes_data, start))\n",
    "print(len(int_data))\n",
    "#int_data = [x * 10**(-9) for x in int_data]\n",
    "\n",
    "# Print the first 10 integers\n",
    "print(int_data)"
   ]
  },
  {
   "cell_type": "code",
   "execution_count": 68,
   "id": "15b8d8ab-5944-4e67-9413-122847f3b087",
   "metadata": {},
   "outputs": [
    {
     "ename": "ValueError",
     "evalue": "Data must be aligned to block boundary in ECB mode",
     "output_type": "error",
     "traceback": [
      "\u001b[1;31m---------------------------------------------------------------------------\u001b[0m",
      "\u001b[1;31mValueError\u001b[0m                                Traceback (most recent call last)",
      "Cell \u001b[1;32mIn[68], line 18\u001b[0m\n\u001b[0;32m     15\u001b[0m encrypted_bytes \u001b[38;5;241m=\u001b[39m base64\u001b[38;5;241m.\u001b[39mb64decode(encrypted_data[\u001b[38;5;124m'\u001b[39m\u001b[38;5;124msample\u001b[39m\u001b[38;5;124m'\u001b[39m])\n\u001b[0;32m     17\u001b[0m \u001b[38;5;66;03m# Decrypt the data\u001b[39;00m\n\u001b[1;32m---> 18\u001b[0m decrypted_bytes \u001b[38;5;241m=\u001b[39m \u001b[43mcipher\u001b[49m\u001b[38;5;241;43m.\u001b[39;49m\u001b[43mdecrypt\u001b[49m\u001b[43m(\u001b[49m\u001b[43mencrypted_bytes\u001b[49m\u001b[43m[\u001b[49m\u001b[38;5;241;43m4\u001b[39;49m\u001b[43m:\u001b[49m\u001b[43m]\u001b[49m\u001b[43m)\u001b[49m \u001b[38;5;66;03m# Slice to remove padding\u001b[39;00m\n\u001b[0;32m     20\u001b[0m \u001b[38;5;66;03m# Convert the bytes to a list of integers\u001b[39;00m\n\u001b[0;32m     21\u001b[0m int_list \u001b[38;5;241m=\u001b[39m [\u001b[38;5;28mint\u001b[39m\u001b[38;5;241m.\u001b[39mfrom_bytes(decrypted_bytes[i:i\u001b[38;5;241m+\u001b[39m\u001b[38;5;241m4\u001b[39m], \u001b[38;5;124m'\u001b[39m\u001b[38;5;124mbig\u001b[39m\u001b[38;5;124m'\u001b[39m, signed\u001b[38;5;241m=\u001b[39m\u001b[38;5;28;01mFalse\u001b[39;00m) \u001b[38;5;28;01mfor\u001b[39;00m i \u001b[38;5;129;01min\u001b[39;00m \u001b[38;5;28mrange\u001b[39m(\u001b[38;5;241m0\u001b[39m, \u001b[38;5;28mlen\u001b[39m(decrypted_bytes), \u001b[38;5;241m4\u001b[39m)]\n",
      "File \u001b[1;32m~\\.conda\\envs\\scio\\lib\\site-packages\\Crypto\\Cipher\\_mode_ecb.py:196\u001b[0m, in \u001b[0;36mEcbMode.decrypt\u001b[1;34m(self, ciphertext, output)\u001b[0m\n\u001b[0;32m    194\u001b[0m \u001b[38;5;28;01mif\u001b[39;00m result:\n\u001b[0;32m    195\u001b[0m     \u001b[38;5;28;01mif\u001b[39;00m result \u001b[38;5;241m==\u001b[39m \u001b[38;5;241m3\u001b[39m:\n\u001b[1;32m--> 196\u001b[0m         \u001b[38;5;28;01mraise\u001b[39;00m \u001b[38;5;167;01mValueError\u001b[39;00m(\u001b[38;5;124m\"\u001b[39m\u001b[38;5;124mData must be aligned to block boundary in ECB mode\u001b[39m\u001b[38;5;124m\"\u001b[39m)\n\u001b[0;32m    197\u001b[0m     \u001b[38;5;28;01mraise\u001b[39;00m \u001b[38;5;167;01mValueError\u001b[39;00m(\u001b[38;5;124m\"\u001b[39m\u001b[38;5;124mError \u001b[39m\u001b[38;5;132;01m%d\u001b[39;00m\u001b[38;5;124m while decrypting in ECB mode\u001b[39m\u001b[38;5;124m\"\u001b[39m \u001b[38;5;241m%\u001b[39m result)\n\u001b[0;32m    199\u001b[0m \u001b[38;5;28;01mif\u001b[39;00m output \u001b[38;5;129;01mis\u001b[39;00m \u001b[38;5;28;01mNone\u001b[39;00m:\n",
      "\u001b[1;31mValueError\u001b[0m: Data must be aligned to block boundary in ECB mode"
     ]
    }
   ],
   "source": [
    "from Crypto.Cipher import AES\n",
    "import base64\n",
    "\n",
    "# Load JSON data from file\n",
    "with open('test_data.json') as f:\n",
    "    encrypted_data = json.load(f)\n",
    "\n",
    "# The decryption key\n",
    "key = \"8032AB45611198F1\".encode('latin-1')\n",
    "\n",
    "# Create an AES cipher object with the given key and ECB mode\n",
    "cipher = AES.new(key, AES.MODE_ECB)\n",
    "\n",
    "# Decode the base64 string to bytes\n",
    "encrypted_bytes = base64.b64decode(encrypted_data['sample'])\n",
    "\n",
    "# Decrypt the data\n",
    "decrypted_bytes = cipher.decrypt(encrypted_bytes[4:]) # Slice to remove padding\n",
    "\n",
    "# Convert the bytes to a list of integers\n",
    "int_list = [int.from_bytes(decrypted_bytes[i:i+4], 'big', signed=False) for i in range(0, len(decrypted_bytes), 4)]"
   ]
  },
  {
   "cell_type": "code",
   "execution_count": 18,
   "id": "719cb849-7717-46ec-b963-100405171141",
   "metadata": {},
   "outputs": [
    {
     "name": "stdout",
     "output_type": "stream",
     "text": [
      "1656\n",
      "[0.3541440255, 0.2231017404, 0.1392947054, 0.4022710711, 0.032072177800000004, 0.19670508120000002, 0.177511011, 0.3887616434, 0.362936115, 0.022452329]\n"
     ]
    }
   ],
   "source": [
    "# Load JSON data from file\n",
    "with open('test_data.json') as f:\n",
    "    data = json.load(f)\n",
    "\n",
    "# Get the base64 string from the 'sample' dataset\n",
    "b64_string = data['sample_white_gradient']\n",
    "\n",
    "# Decode the base64 string into bytes\n",
    "bytes_data = base64.b64decode(b64_string)\n",
    "\n",
    "print(len(bytes_data))\n",
    "\n",
    "import struct\n",
    "# assume your bytes are in a variable called `data`\n",
    "start = 6  # skip the first 6 bytes\n",
    "num_values = 330\n",
    "value_size = 4  # each value is 4 bytes\n",
    "separator_size = 1  # there is 1 byte separating each value\n",
    "fmt = f\">{num_values}I{separator_size}x\"  # use 'x' to skip the separator byte\n",
    "\n",
    "int_data_w = struct.unpack_from(fmt, bytes_data, start)\n",
    "\n",
    "int_data_w = [x * 10**(-10) for x in int_data_w]\n",
    "\n",
    "# Print the first 10 integers\n",
    "print(int_data_w[:10])"
   ]
  },
  {
   "cell_type": "code",
   "execution_count": 33,
   "id": "bc98c458-3fb7-48f5-8456-dcc5fed6835b",
   "metadata": {},
   "outputs": [
    {
     "data": {
      "text/plain": [
       "1655"
      ]
     },
     "execution_count": 33,
     "metadata": {},
     "output_type": "execute_result"
    }
   ],
   "source": [
    "331*5"
   ]
  },
  {
   "cell_type": "code",
   "execution_count": 20,
   "id": "92383de4-7125-4d06-b0ef-6203e006435a",
   "metadata": {},
   "outputs": [
    {
     "name": "stdout",
     "output_type": "stream",
     "text": [
      "[0.1031693756, 0.023116495999999986, -0.1381343485, 0.20564053379999997, -0.1536861458, -0.13685428839999997, -0.21021458580000002, 0.1398137382, 0.1797975043, -0.305211193, 0.1534573241, 0.1850059249, -0.1246824057, 0.010760518699999999, -0.2518457876, -0.1362046764, 0.1756478357, 0.177801524, 0.031507238800000004, -0.11126062669999999, 0.06716087929999998, 0.3191672961, 0.16115700589999998, -0.0499767582, -0.25945946729999997, -0.16555875490000002, -0.2033292049, 0.2147782078, -0.3638491023, -0.3277492739, -0.14221325629999998, -0.19868819669999999, -0.2017295674, -0.2641449517, -0.044995441199999986, 0.1312641586, -0.15080418, 0.1396801713, -0.1289353499, 0.27373594370000004, -0.1733706306, -0.3725474301, -0.05501499500000004, -0.05434773010000002, -0.14581962880000005, -0.09414841399999999, 0.006466869200000003, 0.0605959422, 0.267508748, -0.058284580700000005, -0.005765073199999998, -0.3559685656, -0.031144865699999996, -0.3064538747, 0.3363200234, 0.0095490986, 0.134424751, 0.03639791780000001, 0.1227510526, 0.00761996370000001, 0.1730928679, 0.1016184771, -0.12717608260000002, 0.050114002300000016, -0.22522052380000002, -0.0023480245000000004, -0.1966480386, -0.0368637255, 0.0800873967, 0.2962967375, 0.11237140520000001, -0.1385209248, 0.4036814007, 0.0015512523, -0.026553013000000014, -0.3318768926, -0.2609100801, 0.0963413448, 0.0076394297000000055, 0.26939152, 0.2964268272, -0.2552252338, 0.02987373630000001, 0.1355915415, 0.132971878, -0.26413410540000004, -0.2324641001, -0.00985078709999998, 0.0267049364, -0.1385558297, -0.07999893060000002, -0.11259859130000002, 0.3059430374, 0.056644761100000024, -0.0403934983, 0.32045317310000004, -0.08652183940000002, -0.09260820960000002, 0.11288917320000001, 0.1615457345, 0.2618608913, 0.2984180194, -0.18804990380000003, 0.3320220071, -0.0678251553, 0.08056608400000001, -0.030202017199999986, 0.2690120431, 0.16889120100000002, -0.05087712, 0.03741055120000003, 0.08520612790000004, 0.039418041599999995, -0.1749863179, 0.16467684359999998, 0.040738200700000005, 0.2155251074, 0.04483457759999998, 0.3906842594, 0.05448018850000001, 0.23959159400000002, 0.294632761, -0.27744747410000004, -0.12375694139999999, 0.2532768371, -0.38080721230000003, -0.38249199840000003, 0.11636291170000002, 0.22060865040000002, -0.1410602635, 0.0970062511, 0.33541791870000004, 0.0521710006, 0.18574535210000004, 0.2985007926, -0.130918628, -0.18510522120000003, 0.05488063860000003, -0.027836427400000002, -0.2504977987, -0.012523058400000009, 0.2098416984, -0.11465686050000001, 0.030351395000000003, -0.2430158994, -0.004062087899999983, 0.20374501099999998, -0.05375345469999998, 0.06080062179999998, 0.04457038890000001, 0.03355332430000002, 0.18110302260000002, 0.08810717989999997, 0.2114339239, 0.15051335059999998, 0.04244460489999996, 0.37447669559999996, 0.13214424900000002, -0.0826791866, 0.0925825093, 0.29999785090000003, 0.07394259339999998, 0.0448086979, -0.17019774350000003, -0.030382379300000012, -0.2885391037, -0.0780078494, -0.047040432300000004, -0.09401915580000003, -0.032252928600000036, 0.2402609435, 0.008930961500000001, -0.1386583039, 0.060036177600000004, 0.07230657370000002, 0.1638218277, 0.03331359410000001, -0.1806013847, -0.3900726055, -0.03800181260000002, -0.0433538232, 0.1411452319, -0.11770415779999999, -0.1721280489, 0.022048670600000014, 0.346871456, -0.1096404574, -0.3096037289, 0.3181672126, -0.0929838644, 0.03740896730000001, 0.0075414971000000025, -0.1352273235, 0.3956084036, 0.09814156260000001, -0.12361009230000003, 0.013530702899999997, -0.2313185368, -0.3968840006, -0.10098729979999999, -0.0004374789000000101, -0.020191920700000004, -0.018010430700000024, -0.13385360889999998, 0.0829349436, 0.1879281068, -0.014571035399999988, 0.1022592149, 0.14221710740000001, 0.010265870799999965, 0.08590293450000003, -0.1885906414, 0.017332445799999985, 0.0342461637, -0.1379241371, 0.18272145339999998, -0.3602078039, 0.13762712300000002, 0.07518462429999997, -0.072335342, 0.01906986699999999, -0.06652987430000001, -0.3602534946, -0.2062582268, -0.03756555140000001, -0.23703219900000003, 0.17800991660000004, -0.2893103907, 0.0678407074, -0.044425239299999975, 0.237547027, -0.04158535219999998, -0.2126501558, -0.06061523090000001, -0.05037112010000001, 0.19861828760000003, 0.20837406810000003, 0.39552877880000004, -0.11211171460000002, -0.2942707346, 0.2749663458, 0.0741860314, 0.16044009810000004, -0.1520214908, 0.3327089523, 0.043555318999999995, -0.06955723479999998, 0.3105044868, 0.0041206488, -0.2424701927, 0.1570072355, -0.0429618725, 0.26443708200000005, -0.0896939067, 0.005428845799999998, -0.1743656658, 0.2766119397, -0.0090430507, -0.201531434, 0.22594369610000004, 0.012903859800000007, -0.21014885400000002, 0.06468806650000003, 0.1957525862, -0.117092942, 0.37663943130000005, 0.0661847623, -0.045658069600000004, 0.1690249322, 0.2411866567, -0.18461017220000003, 0.10195431560000001, -0.09003106249999998, 0.064646308, -0.29253720850000003, 0.22194003110000002, -0.04986585140000001, -0.380125597, 0.19591579920000002, 0.0016141969999999978, -0.16896670069999997, -0.15781601479999996, -0.307660779, 0.29981618649999997, 0.10256687360000002, -0.07441528870000001, -0.08538598759999999, 0.0582104192, -0.03423168809999999, -0.31402076190000006, 0.029499033300000005, 0.030908881300000024, 0.22181752340000002, 0.10360787360000001, 0.22660869750000004, -0.33887164410000004, 0.099628937, 0.07611096279999999, 0.0107565211, -0.2049153597, -0.16874551220000003, -0.23890049100000002, -0.1538587884, 0.2051308859, -0.05696504529999999, -0.1305101529, 0.1589442687, -0.0541387914, -0.06590149580000002, -0.07709980560000002, -0.014375648500000004, 0.152538639, -0.32594821630000004, -0.08481851360000003, 0.0636843232, -0.17877170470000003, 0.014090307999999996, -0.057235090000000016, 0.27328675760000004, -0.3303441049, -0.3097496047, -0.0505265489, 0.13750683780000003, 0.2302162391, 0.05400789409999998, -0.058931457600000015, 0.3275909736, -0.14666905619999998, 0.023120738699999976, -0.0018341915999999792]\n"
     ]
    }
   ],
   "source": [
    "result = [int_data_w[i] - int_data[i] for i in range(len(int_data))]\n",
    "\n",
    "print(result)"
   ]
  },
  {
   "cell_type": "code",
   "execution_count": 31,
   "id": "352919a0-d216-4421-923c-aa9e8e84fca8",
   "metadata": {},
   "outputs": [
    {
     "name": "stdout",
     "output_type": "stream",
     "text": [
      "[ 740.  741.  742.  743.  744.  745.  746.  747.  748.  749.  750.  751.\n",
      "  752.  753.  754.  755.  756.  757.  758.  759.  760.  761.  762.  763.\n",
      "  764.  765.  766.  767.  768.  769.  770.  771.  772.  773.  774.  775.\n",
      "  776.  777.  778.  779.  780.  781.  782.  783.  784.  785.  786.  787.\n",
      "  788.  789.  790.  791.  792.  793.  794.  795.  796.  797.  798.  799.\n",
      "  800.  801.  802.  803.  804.  805.  806.  807.  808.  809.  810.  811.\n",
      "  812.  813.  814.  815.  816.  817.  818.  819.  820.  821.  822.  823.\n",
      "  824.  825.  826.  827.  828.  829.  830.  831.  832.  833.  834.  835.\n",
      "  836.  837.  838.  839.  840.  841.  842.  843.  844.  845.  846.  847.\n",
      "  848.  849.  850.  851.  852.  853.  854.  855.  856.  857.  858.  859.\n",
      "  860.  861.  862.  863.  864.  865.  866.  867.  868.  869.  870.  871.\n",
      "  872.  873.  874.  875.  876.  877.  878.  879.  880.  881.  882.  883.\n",
      "  884.  885.  886.  887.  888.  889.  890.  891.  892.  893.  894.  895.\n",
      "  896.  897.  898.  899.  900.  901.  902.  903.  904.  905.  906.  907.\n",
      "  908.  909.  910.  911.  912.  913.  914.  915.  916.  917.  918.  919.\n",
      "  920.  921.  922.  923.  924.  925.  926.  927.  928.  929.  930.  931.\n",
      "  932.  933.  934.  935.  936.  937.  938.  939.  940.  941.  942.  943.\n",
      "  944.  945.  946.  947.  948.  949.  950.  951.  952.  953.  954.  955.\n",
      "  956.  957.  958.  959.  960.  961.  962.  963.  964.  965.  966.  967.\n",
      "  968.  969.  970.  971.  972.  973.  974.  975.  976.  977.  978.  979.\n",
      "  980.  981.  982.  983.  984.  985.  986.  987.  988.  989.  990.  991.\n",
      "  992.  993.  994.  995.  996.  997.  998.  999. 1000. 1001. 1002. 1003.\n",
      " 1004. 1005. 1006. 1007. 1008. 1009. 1010. 1011. 1012. 1013. 1014. 1015.\n",
      " 1016. 1017. 1018. 1019. 1020. 1021. 1022. 1023. 1024. 1025. 1026. 1027.\n",
      " 1028. 1029. 1030. 1031. 1032. 1033. 1034. 1035. 1036. 1037. 1038. 1039.\n",
      " 1040. 1041. 1042. 1043. 1044. 1045. 1046. 1047. 1048. 1049. 1050. 1051.\n",
      " 1052. 1053. 1054. 1055. 1056. 1057. 1058. 1059. 1060. 1061. 1062. 1063.\n",
      " 1064. 1065. 1066. 1067. 1068. 1069. 1070.]\n"
     ]
    },
    {
     "ename": "ZeroDivisionError",
     "evalue": "division by zero",
     "output_type": "error",
     "traceback": [
      "\u001b[1;31m---------------------------------------------------------------------------\u001b[0m",
      "\u001b[1;31mZeroDivisionError\u001b[0m                         Traceback (most recent call last)",
      "Cell \u001b[1;32mIn[31], line 16\u001b[0m\n\u001b[0;32m     14\u001b[0m \u001b[38;5;66;03m# Normalize to white spectrum (optional)\u001b[39;00m\n\u001b[0;32m     15\u001b[0m white_spectrum \u001b[38;5;241m=\u001b[39m [\u001b[38;5;241m0\u001b[39m, \u001b[38;5;241m0\u001b[39m, \u001b[38;5;241m0\u001b[39m, \u001b[38;5;241m1\u001b[39m, \u001b[38;5;241m2\u001b[39m, \u001b[38;5;241m3\u001b[39m, \u001b[38;5;241m4\u001b[39m, \u001b[38;5;241m5\u001b[39m, \u001b[38;5;241m6\u001b[39m, \u001b[38;5;241m7\u001b[39m, \u001b[38;5;241m8\u001b[39m, \u001b[38;5;241m8\u001b[39m, \u001b[38;5;241m8\u001b[39m, \u001b[38;5;241m8\u001b[39m, \u001b[38;5;241m8\u001b[39m]\n\u001b[1;32m---> 16\u001b[0m processed_data \u001b[38;5;241m=\u001b[39m [raw \u001b[38;5;241m/\u001b[39m white \u001b[38;5;28;01mfor\u001b[39;00m raw, white \u001b[38;5;129;01min\u001b[39;00m \u001b[38;5;28mzip\u001b[39m(processed_data, white_spectrum)]\n\u001b[0;32m     18\u001b[0m \u001b[38;5;66;03m# Convert to absorbance\u001b[39;00m\n\u001b[0;32m     19\u001b[0m reference_spectrum \u001b[38;5;241m=\u001b[39m [\u001b[38;5;241m0\u001b[39m, \u001b[38;5;241m0\u001b[39m, \u001b[38;5;241m0\u001b[39m, \u001b[38;5;241m0\u001b[39m, \u001b[38;5;241m0\u001b[39m, \u001b[38;5;241m0\u001b[39m, \u001b[38;5;241m0\u001b[39m, \u001b[38;5;241m0\u001b[39m, \u001b[38;5;241m0\u001b[39m, \u001b[38;5;241m0\u001b[39m, \u001b[38;5;241m0\u001b[39m, \u001b[38;5;241m1\u001b[39m, \u001b[38;5;241m1\u001b[39m, \u001b[38;5;241m1\u001b[39m, \u001b[38;5;241m1\u001b[39m]\n",
      "Cell \u001b[1;32mIn[31], line 16\u001b[0m, in \u001b[0;36m<listcomp>\u001b[1;34m(.0)\u001b[0m\n\u001b[0;32m     14\u001b[0m \u001b[38;5;66;03m# Normalize to white spectrum (optional)\u001b[39;00m\n\u001b[0;32m     15\u001b[0m white_spectrum \u001b[38;5;241m=\u001b[39m [\u001b[38;5;241m0\u001b[39m, \u001b[38;5;241m0\u001b[39m, \u001b[38;5;241m0\u001b[39m, \u001b[38;5;241m1\u001b[39m, \u001b[38;5;241m2\u001b[39m, \u001b[38;5;241m3\u001b[39m, \u001b[38;5;241m4\u001b[39m, \u001b[38;5;241m5\u001b[39m, \u001b[38;5;241m6\u001b[39m, \u001b[38;5;241m7\u001b[39m, \u001b[38;5;241m8\u001b[39m, \u001b[38;5;241m8\u001b[39m, \u001b[38;5;241m8\u001b[39m, \u001b[38;5;241m8\u001b[39m, \u001b[38;5;241m8\u001b[39m]\n\u001b[1;32m---> 16\u001b[0m processed_data \u001b[38;5;241m=\u001b[39m [\u001b[43mraw\u001b[49m\u001b[43m \u001b[49m\u001b[38;5;241;43m/\u001b[39;49m\u001b[43m \u001b[49m\u001b[43mwhite\u001b[49m \u001b[38;5;28;01mfor\u001b[39;00m raw, white \u001b[38;5;129;01min\u001b[39;00m \u001b[38;5;28mzip\u001b[39m(processed_data, white_spectrum)]\n\u001b[0;32m     18\u001b[0m \u001b[38;5;66;03m# Convert to absorbance\u001b[39;00m\n\u001b[0;32m     19\u001b[0m reference_spectrum \u001b[38;5;241m=\u001b[39m [\u001b[38;5;241m0\u001b[39m, \u001b[38;5;241m0\u001b[39m, \u001b[38;5;241m0\u001b[39m, \u001b[38;5;241m0\u001b[39m, \u001b[38;5;241m0\u001b[39m, \u001b[38;5;241m0\u001b[39m, \u001b[38;5;241m0\u001b[39m, \u001b[38;5;241m0\u001b[39m, \u001b[38;5;241m0\u001b[39m, \u001b[38;5;241m0\u001b[39m, \u001b[38;5;241m0\u001b[39m, \u001b[38;5;241m1\u001b[39m, \u001b[38;5;241m1\u001b[39m, \u001b[38;5;241m1\u001b[39m, \u001b[38;5;241m1\u001b[39m]\n",
      "\u001b[1;31mZeroDivisionError\u001b[0m: division by zero"
     ]
    }
   ],
   "source": [
    "import numpy as np\n",
    "\n",
    "# Read raw data from file or device\n",
    "raw_data = [0, 0, 0, 1, 2, 3, 4, 5, 4, 3, 2, 1, 0, 0, 0]\n",
    "\n",
    "# Define wavelength range\n",
    "wavelengths = np.linspace(740, 1070, 331)\n",
    "print(wavelengths)\n",
    "\n",
    "# Subtract dark spectrum (optional)\n",
    "dark_spectrum = [0, 0, 0, 1, 1, 1, 1, 1, 1, 1, 1, 0, 0, 0, 0]\n",
    "processed_data = [raw - dark for raw, dark in zip(raw_data, dark_spectrum)]\n",
    "\n",
    "# Normalize to white spectrum (optional)\n",
    "white_spectrum = [0, 0, 0, 1, 2, 3, 4, 5, 6, 7, 8, 8, 8, 8, 8]\n",
    "processed_data = [raw / white for raw, white in zip(processed_data, white_spectrum)]\n",
    "\n",
    "# Convert to absorbance\n",
    "reference_spectrum = [0, 0, 0, 0, 0, 0, 0, 0, 0, 0, 0, 1, 1, 1, 1]\n",
    "absorbance_spectrum = [-np.log10(raw / reference) for raw, reference in zip(processed_data, reference_spectrum)]\n"
   ]
  },
  {
   "cell_type": "code",
   "execution_count": 27,
   "id": "1f6720ab-5494-43c0-b4a2-86f71dcd64c4",
   "metadata": {},
   "outputs": [
    {
     "data": {
      "text/plain": [
       "1648"
      ]
     },
     "execution_count": 27,
     "metadata": {},
     "output_type": "execute_result"
    }
   ],
   "source": [
    "103*16"
   ]
  }
 ],
 "metadata": {
  "kernelspec": {
   "display_name": "scio",
   "language": "python",
   "name": "scio"
  },
  "language_info": {
   "codemirror_mode": {
    "name": "ipython",
    "version": 3
   },
   "file_extension": ".py",
   "mimetype": "text/x-python",
   "name": "python",
   "nbconvert_exporter": "python",
   "pygments_lexer": "ipython3",
   "version": "3.10.9"
  }
 },
 "nbformat": 4,
 "nbformat_minor": 5
}
