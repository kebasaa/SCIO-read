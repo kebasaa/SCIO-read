{
 "cells": [
  {
   "cell_type": "markdown",
   "id": "4493f2ef-302d-4924-b8cf-72678d653dc7",
   "metadata": {
    "tags": []
   },
   "source": [
    "# Python library for loading a log of the Consumer Physics SCIO\n"
   ]
  },
  {
   "cell_type": "code",
   "execution_count": null,
   "id": "67005b5a-8221-45ef-ba05-24f187824037",
   "metadata": {},
   "outputs": [],
   "source": [
    "import json\n",
    "import struct\n",
    "import logging\n",
    "import datetime\n",
    "import os\n",
    "import csv\n",
    "import base64\n",
    "import numpy as np\n",
    "\n",
    "# Logging/output format setup\n",
    "log = logging.getLogger('root')\n",
    "log.setLevel(logging.DEBUG)\n",
    "logging.basicConfig(format='[%(asctime)s] %(levelname)8s: %(message)s', datefmt='%Y-%m-%d %H:%M:%S')"
   ]
  },
  {
   "cell_type": "code",
   "execution_count": null,
   "id": "888b6c86-1d8e-45f1-a6a0-28bcf1813905",
   "metadata": {},
   "outputs": [],
   "source": [
    "class scio_log:\n",
    "    def __init__(self, address):\n",
    "        self.device_info = {}\n",
    "        self.scan_rawdata = {}\n",
    "        self.calibration_data = {}\n",
    "        self.key = b''\n",
    "    \n",
    "    def load_log(self, log_fn):\n",
    "        return\n",
    "    \n",
    "    # Saves a single scan as raw data to JSON\n",
    "    def write_data_file(self, output_fn, scan_rawdata, temp_before, temp_after):\n",
    "        timestamp = datetime.datetime.utcnow().strftime('%Y-%m-%d %H:%M:%S')\n",
    "        \n",
    "        # Rename temperature reading dicts\n",
    "        temp_before['cmos_t_before'] = temp_before.pop('cmos_t')\n",
    "        temp_before['chip_t_before'] = temp_before.pop('chip_t')\n",
    "        temp_before['obj_t_before']  = temp_before.pop('obj_t')\n",
    "        temp_after['cmos_t_after']   = temp_after.pop('cmos_t')\n",
    "        temp_after['chip_t_after']   = temp_after.pop('chip_t')\n",
    "        temp_after['obj_t_after']    = temp_after.pop('obj_t')\n",
    "        \n",
    "        # Create the json string\n",
    "        jsondata = {}\n",
    "        jsondata['device'] = self.device_info\n",
    "        jsondata['scan'] = {'timestamp': timestamp}\n",
    "        jsondata['scan'].update(temp_before)\n",
    "        jsondata['scan'].update(temp_after)\n",
    "        jsondata['scan'].update(scan_rawdata)\n",
    "        # Write data to JSON file\n",
    "        with open(output_fn, 'w') as outfile:\n",
    "            json.dump(jsondata, outfile, indent=4)\n",
    "        return\n",
    "    \n",
    "    def encode_b64(self, bytestring):\n",
    "        urlSafeEncodedBytes = base64.urlsafe_b64encode(bytestring)\n",
    "        urlSafeEncodedStr = str(urlSafeEncodedBytes, 'utf-8')\n",
    "        return(urlSafeEncodedStr)"
   ]
  },
  {
   "cell_type": "code",
   "execution_count": null,
   "id": "44a7e31e-904c-4dc9-844d-a96993f7cc68",
   "metadata": {},
   "outputs": [],
   "source": [
    "log_fn  = './01_rawdata/log_files/log_20200604-bark.txt'\n",
    "data_fn = './scan.json'\n",
    "\n",
    "# Now set up device\n",
    "scio = scio_log() # Create an instance for this device address\n",
    "scio.load_log(log_fn, silent=False)\n",
    "print('Done...')"
   ]
  },
  {
   "cell_type": "code",
   "execution_count": null,
   "id": "31ad6ad2-fcf2-4cd1-83e6-dfe28c7a2ebd",
   "metadata": {},
   "outputs": [],
   "source": []
  }
 ],
 "metadata": {
  "kernelspec": {
   "display_name": "scio",
   "language": "python",
   "name": "scio"
  },
  "language_info": {
   "codemirror_mode": {
    "name": "ipython",
    "version": 3
   },
   "file_extension": ".py",
   "mimetype": "text/x-python",
   "name": "python",
   "nbconvert_exporter": "python",
   "pygments_lexer": "ipython3",
   "version": "3.10.9"
  }
 },
 "nbformat": 4,
 "nbformat_minor": 5
}
