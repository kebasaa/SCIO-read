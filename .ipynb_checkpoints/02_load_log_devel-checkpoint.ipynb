{
 "cells": [
  {
   "cell_type": "markdown",
   "id": "4493f2ef-302d-4924-b8cf-72678d653dc7",
   "metadata": {
    "tags": []
   },
   "source": [
    "# Python library for loading a log of the Consumer Physics SCIO\n"
   ]
  },
  {
   "cell_type": "code",
   "execution_count": 1,
   "id": "67005b5a-8221-45ef-ba05-24f187824037",
   "metadata": {},
   "outputs": [],
   "source": [
    "import json\n",
    "import struct\n",
    "import logging\n",
    "import datetime\n",
    "import os\n",
    "import csv\n",
    "import base64\n",
    "import numpy as np\n",
    "import re\n",
    "\n",
    "# Logging/output format setup\n",
    "log = logging.getLogger('root')\n",
    "log.setLevel(logging.DEBUG)\n",
    "logging.basicConfig(format='[%(asctime)s] %(levelname)8s: %(message)s', datefmt='%Y-%m-%d %H:%M:%S')"
   ]
  },
  {
   "cell_type": "code",
   "execution_count": 62,
   "id": "888b6c86-1d8e-45f1-a6a0-28bcf1813905",
   "metadata": {},
   "outputs": [],
   "source": [
    "class scio_log:\n",
    "    def __init__(self):\n",
    "        self.device_info = {}\n",
    "        self.scan_rawdata = {}\n",
    "        self.calibration_data = {}\n",
    "        self.key = b''\n",
    "        self.cmd_temp = r\"\\[command: (\\w+), data: ([\\w\\s]+)\\]\"\n",
    "        #self.cmd_info = r\"DeviceInfo{(?P<info>.+?)}\"\n",
    "        self.cmd_info = r\"DeviceInfo{(.*?)}\"\n",
    "    \n",
    "    def load_log(self, log_fn, silent=True):\n",
    "        next_task = 'dev_info'\n",
    "        \n",
    "        with open(log_fn, 'r') as file:\n",
    "            for line in file:\n",
    "                # Device information\n",
    "                if(next_task == 'dev_info'):\n",
    "                    match = re.search(self.cmd_info, line)\n",
    "                    if(match):\n",
    "                        self.parse_device_info(match)\n",
    "                        next_task = 'temp_before'\n",
    "                # Temperature before the scan\n",
    "                if(next_task == 'temp_before'):\n",
    "                    match = re.search(self.cmd_temp, line)\n",
    "                    if(match):\n",
    "                        temp = self.read_temperature(match)\n",
    "                        temp_before_found = True\n",
    "                        print(temp)\n",
    "        \n",
    "        print(self.device_info)\n",
    "        return\n",
    "    \n",
    "    def parse_device_info(self, match):\n",
    "        info = str(match).split(\", \")\n",
    "        print(info)\n",
    "        for item in info:\n",
    "            key, value = item.split(\"=\")\n",
    "            if value.isdigit():\n",
    "                self.device_info[key] = int(value)\n",
    "            elif value.lower() == \"true\":\n",
    "                self.device_info[key] = True\n",
    "            elif value.lower() == \"false\":\n",
    "                self.device_info[key] = False\n",
    "            else:\n",
    "                self.device_info[key] = value\n",
    "        return(self.device_info)\n",
    "    \n",
    "    def read_temperature(self, match):\n",
    "        response_data_raw = bytearray.fromhex(match.group(2).replace(\" \", \"\"))\n",
    "        response_length = len(response_data_raw)\n",
    "        # Parse response\n",
    "        num_vars = response_length / 4 # divide by 4 because we are dealing with longs\n",
    "        data_struct = '<' + str(int(num_vars)) + 'L' # This is usually '<3l' or '<lll'\n",
    "        # Convert bytes\n",
    "        response_data = struct.unpack(data_struct, response_data_raw)\n",
    "        # Convert to actual temperatures\n",
    "        cmosTemperature   = (response_data[0] - 375.22) / 1.4092 # From the disassembled Android app\n",
    "        chipTemperature   = response_data[1] / 100\n",
    "        objectTemperature = response_data[2] / 100\n",
    "        temperatures = {'cmos_t': cmosTemperature, 'chip_t': chipTemperature, 'obj_t': objectTemperature}\n",
    "        return(temperatures)\n",
    "    \n",
    "    # Saves a single scan as raw data to JSON\n",
    "    def write_data_file(self, output_fn, scan_rawdata, temp_before, temp_after):\n",
    "        timestamp = datetime.datetime.utcnow().strftime('%Y-%m-%d %H:%M:%S')\n",
    "        \n",
    "        # Rename temperature reading dicts\n",
    "        temp_before['cmos_t_before'] = temp_before.pop('cmos_t')\n",
    "        temp_before['chip_t_before'] = temp_before.pop('chip_t')\n",
    "        temp_before['obj_t_before']  = temp_before.pop('obj_t')\n",
    "        temp_after['cmos_t_after']   = temp_after.pop('cmos_t')\n",
    "        temp_after['chip_t_after']   = temp_after.pop('chip_t')\n",
    "        temp_after['obj_t_after']    = temp_after.pop('obj_t')\n",
    "        \n",
    "        # Create the json string\n",
    "        jsondata = {}\n",
    "        jsondata['device'] = self.device_info\n",
    "        jsondata['scan'] = {'timestamp': timestamp}\n",
    "        jsondata['scan'].update(temp_before)\n",
    "        jsondata['scan'].update(temp_after)\n",
    "        jsondata['scan'].update(scan_rawdata)\n",
    "        # Write data to JSON file\n",
    "        with open(output_fn, 'w') as outfile:\n",
    "            json.dump(jsondata, outfile, indent=4)\n",
    "        return\n",
    "    \n",
    "    def encode_b64(self, bytestring):\n",
    "        urlSafeEncodedBytes = base64.urlsafe_b64encode(bytestring)\n",
    "        urlSafeEncodedStr = str(urlSafeEncodedBytes, 'utf-8')\n",
    "        return(urlSafeEncodedStr)"
   ]
  },
  {
   "cell_type": "code",
   "execution_count": 63,
   "id": "44a7e31e-904c-4dc9-844d-a96993f7cc68",
   "metadata": {},
   "outputs": [
    {
     "name": "stdout",
     "output_type": "stream",
     "text": [
      "['<re.Match object; span=(66', '180)', 'match=\"DeviceInfo{address=\\'B4:99:4C:59:66:01\\'', 'version=0>']\n"
     ]
    },
    {
     "ename": "ValueError",
     "evalue": "not enough values to unpack (expected 2, got 1)",
     "output_type": "error",
     "traceback": [
      "\u001b[1;31m---------------------------------------------------------------------------\u001b[0m",
      "\u001b[1;31mValueError\u001b[0m                                Traceback (most recent call last)",
      "Cell \u001b[1;32mIn[63], line 6\u001b[0m\n\u001b[0;32m      4\u001b[0m \u001b[38;5;66;03m# Now set up device\u001b[39;00m\n\u001b[0;32m      5\u001b[0m scio \u001b[38;5;241m=\u001b[39m scio_log() \u001b[38;5;66;03m# Create an instance for this device address\u001b[39;00m\n\u001b[1;32m----> 6\u001b[0m \u001b[43mscio\u001b[49m\u001b[38;5;241;43m.\u001b[39;49m\u001b[43mload_log\u001b[49m\u001b[43m(\u001b[49m\u001b[43mlog_fn\u001b[49m\u001b[43m,\u001b[49m\u001b[43m \u001b[49m\u001b[43msilent\u001b[49m\u001b[38;5;241;43m=\u001b[39;49m\u001b[38;5;28;43;01mFalse\u001b[39;49;00m\u001b[43m)\u001b[49m\n\u001b[0;32m      7\u001b[0m \u001b[38;5;28mprint\u001b[39m(\u001b[38;5;124m'\u001b[39m\u001b[38;5;124mDone...\u001b[39m\u001b[38;5;124m'\u001b[39m)\n",
      "Cell \u001b[1;32mIn[62], line 20\u001b[0m, in \u001b[0;36mscio_log.load_log\u001b[1;34m(self, log_fn, silent)\u001b[0m\n\u001b[0;32m     18\u001b[0m     match \u001b[38;5;241m=\u001b[39m re\u001b[38;5;241m.\u001b[39msearch(\u001b[38;5;28mself\u001b[39m\u001b[38;5;241m.\u001b[39mcmd_info, line)\n\u001b[0;32m     19\u001b[0m     \u001b[38;5;28;01mif\u001b[39;00m(match):\n\u001b[1;32m---> 20\u001b[0m         \u001b[38;5;28;43mself\u001b[39;49m\u001b[38;5;241;43m.\u001b[39;49m\u001b[43mparse_device_info\u001b[49m\u001b[43m(\u001b[49m\u001b[43mmatch\u001b[49m\u001b[43m)\u001b[49m\n\u001b[0;32m     21\u001b[0m         next_task \u001b[38;5;241m=\u001b[39m \u001b[38;5;124m'\u001b[39m\u001b[38;5;124mtemp_before\u001b[39m\u001b[38;5;124m'\u001b[39m\n\u001b[0;32m     22\u001b[0m \u001b[38;5;66;03m# Temperature before the scan\u001b[39;00m\n",
      "Cell \u001b[1;32mIn[62], line 37\u001b[0m, in \u001b[0;36mscio_log.parse_device_info\u001b[1;34m(self, match)\u001b[0m\n\u001b[0;32m     35\u001b[0m \u001b[38;5;28mprint\u001b[39m(info)\n\u001b[0;32m     36\u001b[0m \u001b[38;5;28;01mfor\u001b[39;00m item \u001b[38;5;129;01min\u001b[39;00m info:\n\u001b[1;32m---> 37\u001b[0m     key, value \u001b[38;5;241m=\u001b[39m item\u001b[38;5;241m.\u001b[39msplit(\u001b[38;5;124m\"\u001b[39m\u001b[38;5;124m=\u001b[39m\u001b[38;5;124m\"\u001b[39m)\n\u001b[0;32m     38\u001b[0m     \u001b[38;5;28;01mif\u001b[39;00m value\u001b[38;5;241m.\u001b[39misdigit():\n\u001b[0;32m     39\u001b[0m         \u001b[38;5;28mself\u001b[39m\u001b[38;5;241m.\u001b[39mdevice_info[key] \u001b[38;5;241m=\u001b[39m \u001b[38;5;28mint\u001b[39m(value)\n",
      "\u001b[1;31mValueError\u001b[0m: not enough values to unpack (expected 2, got 1)"
     ]
    }
   ],
   "source": [
    "log_fn  = './01_rawdata/log_files/log_20200604-bark.txt'\n",
    "data_fn = './scan.json'\n",
    "\n",
    "# Now set up device\n",
    "scio = scio_log() # Create an instance for this device address\n",
    "scio.load_log(log_fn, silent=False)\n",
    "print('Done...')"
   ]
  },
  {
   "cell_type": "code",
   "execution_count": 66,
   "id": "31ad6ad2-fcf2-4cd1-83e6-dfe28c7a2ebd",
   "metadata": {},
   "outputs": [
    {
     "name": "stdout",
     "output_type": "stream",
     "text": [
      "656\n"
     ]
    }
   ],
   "source": [
    "response_length = struct.unpack('>H',bytearray.fromhex('0290'))[0]\n",
    "print(response_length)"
   ]
  },
  {
   "cell_type": "code",
   "execution_count": null,
   "id": "0504a97e-c31e-40a7-8ba1-e456d3b0892e",
   "metadata": {},
   "outputs": [],
   "source": []
  }
 ],
 "metadata": {
  "kernelspec": {
   "display_name": "scio",
   "language": "python",
   "name": "scio"
  },
  "language_info": {
   "codemirror_mode": {
    "name": "ipython",
    "version": 3
   },
   "file_extension": ".py",
   "mimetype": "text/x-python",
   "name": "python",
   "nbconvert_exporter": "python",
   "pygments_lexer": "ipython3",
   "version": "3.10.9"
  }
 },
 "nbformat": 4,
 "nbformat_minor": 5
}
