{
 "cells": [
  {
   "cell_type": "markdown",
   "id": "4493f2ef-302d-4924-b8cf-72678d653dc7",
   "metadata": {
    "tags": []
   },
   "source": [
    "# Python library for loading a log of the Consumer Physics SCIO\n"
   ]
  },
  {
   "cell_type": "code",
   "execution_count": 1,
   "id": "67005b5a-8221-45ef-ba05-24f187824037",
   "metadata": {},
   "outputs": [],
   "source": [
    "import json\n",
    "import struct\n",
    "import logging\n",
    "import datetime\n",
    "import os\n",
    "import csv\n",
    "import base64\n",
    "import numpy as np\n",
    "import re\n",
    "\n",
    "# Logging/output format setup\n",
    "log = logging.getLogger('root')\n",
    "log.setLevel(logging.DEBUG)\n",
    "logging.basicConfig(format='[%(asctime)s] %(levelname)8s: %(message)s', datefmt='%Y-%m-%d %H:%M:%S')"
   ]
  },
  {
   "cell_type": "code",
   "execution_count": 62,
   "id": "888b6c86-1d8e-45f1-a6a0-28bcf1813905",
   "metadata": {},
   "outputs": [],
   "source": [
    "class scio_log:\n",
    "    def __init__(self):\n",
    "        self.device_info = {}\n",
    "        self.scan_rawdata = {}\n",
    "        self.calibration_data = {}\n",
    "        self.key = b''\n",
    "        self.cmd_temp = r\"\\[command: (\\w+), data: ([\\w\\s]+)\\]\"\n",
    "        #self.cmd_info = r\"DeviceInfo{(?P<info>.+?)}\"\n",
    "        self.cmd_info = r\"DeviceInfo{(.*?)}\"\n",
    "    \n",
    "    def load_log(self, log_fn, silent=True):\n",
    "        next_task = 'dev_info'\n",
    "        \n",
    "        with open(log_fn, 'r') as file:\n",
    "            for line in file:\n",
    "                # Device information\n",
    "                if(next_task == 'dev_info'):\n",
    "                    match = re.search(self.cmd_info, line)\n",
    "                    if(match):\n",
    "                        self.parse_device_info(match)\n",
    "                        next_task = 'temp_before'\n",
    "                # Temperature before the scan\n",
    "                if(next_task == 'temp_before'):\n",
    "                    match = re.search(self.cmd_temp, line)\n",
    "                    if(match):\n",
    "                        temp = self.read_temperature(match)\n",
    "                        temp_before_found = True\n",
    "                        print(temp)\n",
    "        \n",
    "        print(self.device_info)\n",
    "        return\n",
    "    \n",
    "    def parse_device_info(self, match):\n",
    "        info = str(match).split(\", \")\n",
    "        print(info)\n",
    "        for item in info:\n",
    "            key, value = item.split(\"=\")\n",
    "            if value.isdigit():\n",
    "                self.device_info[key] = int(value)\n",
    "            elif value.lower() == \"true\":\n",
    "                self.device_info[key] = True\n",
    "            elif value.lower() == \"false\":\n",
    "                self.device_info[key] = False\n",
    "            else:\n",
    "                self.device_info[key] = value\n",
    "        return(self.device_info)\n",
    "    \n",
    "    def read_temperature(self, match):\n",
    "        response_data_raw = bytearray.fromhex(match.group(2).replace(\" \", \"\"))\n",
    "        response_length = len(response_data_raw)\n",
    "        # Parse response\n",
    "        num_vars = response_length / 4 # divide by 4 because we are dealing with longs\n",
    "        data_struct = '<' + str(int(num_vars)) + 'L' # This is usually '<3l' or '<lll'\n",
    "        # Convert bytes\n",
    "        response_data = struct.unpack(data_struct, response_data_raw)\n",
    "        # Convert to actual temperatures\n",
    "        cmosTemperature   = (response_data[0] - 375.22) / 1.4092 # From the disassembled Android app\n",
    "        chipTemperature   = response_data[1] / 100\n",
    "        objectTemperature = response_data[2] / 100\n",
    "        temperatures = {'cmos_t': cmosTemperature, 'chip_t': chipTemperature, 'obj_t': objectTemperature}\n",
    "        return(temperatures)\n",
    "    \n",
    "    # Saves a single scan as raw data to JSON\n",
    "    def write_data_file(self, output_fn, scan_rawdata, temp_before, temp_after):\n",
    "        timestamp = datetime.datetime.utcnow().strftime('%Y-%m-%d %H:%M:%S')\n",
    "        \n",
    "        # Rename temperature reading dicts\n",
    "        temp_before['cmos_t_before'] = temp_before.pop('cmos_t')\n",
    "        temp_before['chip_t_before'] = temp_before.pop('chip_t')\n",
    "        temp_before['obj_t_before']  = temp_before.pop('obj_t')\n",
    "        temp_after['cmos_t_after']   = temp_after.pop('cmos_t')\n",
    "        temp_after['chip_t_after']   = temp_after.pop('chip_t')\n",
    "        temp_after['obj_t_after']    = temp_after.pop('obj_t')\n",
    "        \n",
    "        # Create the json string\n",
    "        jsondata = {}\n",
    "        jsondata['device'] = self.device_info\n",
    "        jsondata['scan'] = {'timestamp': timestamp}\n",
    "        jsondata['scan'].update(temp_before)\n",
    "        jsondata['scan'].update(temp_after)\n",
    "        jsondata['scan'].update(scan_rawdata)\n",
    "        # Write data to JSON file\n",
    "        with open(output_fn, 'w') as outfile:\n",
    "            json.dump(jsondata, outfile, indent=4)\n",
    "        return\n",
    "    \n",
    "    def encode_b64(self, bytestring):\n",
    "        urlSafeEncodedBytes = base64.urlsafe_b64encode(bytestring)\n",
    "        urlSafeEncodedStr = str(urlSafeEncodedBytes, 'utf-8')\n",
    "        return(urlSafeEncodedStr)"
   ]
  },
  {
   "cell_type": "code",
   "execution_count": 63,
   "id": "44a7e31e-904c-4dc9-844d-a96993f7cc68",
   "metadata": {},
   "outputs": [
    {
     "name": "stdout",
     "output_type": "stream",
     "text": [
      "['<re.Match object; span=(66', '180)', 'match=\"DeviceInfo{address=\\'B4:99:4C:59:66:01\\'', 'version=0>']\n"
     ]
    },
    {
     "ename": "ValueError",
     "evalue": "not enough values to unpack (expected 2, got 1)",
     "output_type": "error",
     "traceback": [
      "\u001b[1;31m---------------------------------------------------------------------------\u001b[0m",
      "\u001b[1;31mValueError\u001b[0m                                Traceback (most recent call last)",
      "Cell \u001b[1;32mIn[63], line 6\u001b[0m\n\u001b[0;32m      4\u001b[0m \u001b[38;5;66;03m# Now set up device\u001b[39;00m\n\u001b[0;32m      5\u001b[0m scio \u001b[38;5;241m=\u001b[39m scio_log() \u001b[38;5;66;03m# Create an instance for this device address\u001b[39;00m\n\u001b[1;32m----> 6\u001b[0m \u001b[43mscio\u001b[49m\u001b[38;5;241;43m.\u001b[39;49m\u001b[43mload_log\u001b[49m\u001b[43m(\u001b[49m\u001b[43mlog_fn\u001b[49m\u001b[43m,\u001b[49m\u001b[43m \u001b[49m\u001b[43msilent\u001b[49m\u001b[38;5;241;43m=\u001b[39;49m\u001b[38;5;28;43;01mFalse\u001b[39;49;00m\u001b[43m)\u001b[49m\n\u001b[0;32m      7\u001b[0m \u001b[38;5;28mprint\u001b[39m(\u001b[38;5;124m'\u001b[39m\u001b[38;5;124mDone...\u001b[39m\u001b[38;5;124m'\u001b[39m)\n",
      "Cell \u001b[1;32mIn[62], line 20\u001b[0m, in \u001b[0;36mscio_log.load_log\u001b[1;34m(self, log_fn, silent)\u001b[0m\n\u001b[0;32m     18\u001b[0m     match \u001b[38;5;241m=\u001b[39m re\u001b[38;5;241m.\u001b[39msearch(\u001b[38;5;28mself\u001b[39m\u001b[38;5;241m.\u001b[39mcmd_info, line)\n\u001b[0;32m     19\u001b[0m     \u001b[38;5;28;01mif\u001b[39;00m(match):\n\u001b[1;32m---> 20\u001b[0m         \u001b[38;5;28;43mself\u001b[39;49m\u001b[38;5;241;43m.\u001b[39;49m\u001b[43mparse_device_info\u001b[49m\u001b[43m(\u001b[49m\u001b[43mmatch\u001b[49m\u001b[43m)\u001b[49m\n\u001b[0;32m     21\u001b[0m         next_task \u001b[38;5;241m=\u001b[39m \u001b[38;5;124m'\u001b[39m\u001b[38;5;124mtemp_before\u001b[39m\u001b[38;5;124m'\u001b[39m\n\u001b[0;32m     22\u001b[0m \u001b[38;5;66;03m# Temperature before the scan\u001b[39;00m\n",
      "Cell \u001b[1;32mIn[62], line 37\u001b[0m, in \u001b[0;36mscio_log.parse_device_info\u001b[1;34m(self, match)\u001b[0m\n\u001b[0;32m     35\u001b[0m \u001b[38;5;28mprint\u001b[39m(info)\n\u001b[0;32m     36\u001b[0m \u001b[38;5;28;01mfor\u001b[39;00m item \u001b[38;5;129;01min\u001b[39;00m info:\n\u001b[1;32m---> 37\u001b[0m     key, value \u001b[38;5;241m=\u001b[39m item\u001b[38;5;241m.\u001b[39msplit(\u001b[38;5;124m\"\u001b[39m\u001b[38;5;124m=\u001b[39m\u001b[38;5;124m\"\u001b[39m)\n\u001b[0;32m     38\u001b[0m     \u001b[38;5;28;01mif\u001b[39;00m value\u001b[38;5;241m.\u001b[39misdigit():\n\u001b[0;32m     39\u001b[0m         \u001b[38;5;28mself\u001b[39m\u001b[38;5;241m.\u001b[39mdevice_info[key] \u001b[38;5;241m=\u001b[39m \u001b[38;5;28mint\u001b[39m(value)\n",
      "\u001b[1;31mValueError\u001b[0m: not enough values to unpack (expected 2, got 1)"
     ]
    }
   ],
   "source": [
    "log_fn  = './01_rawdata/log_files/log_20200604-bark.txt'\n",
    "data_fn = './scan.json'\n",
    "\n",
    "# Now set up device\n",
    "scio = scio_log() # Create an instance for this device address\n",
    "scio.load_log(log_fn, silent=False)\n",
    "print('Done...')"
   ]
  },
  {
   "cell_type": "code",
   "execution_count": 66,
   "id": "31ad6ad2-fcf2-4cd1-83e6-dfe28c7a2ebd",
   "metadata": {},
   "outputs": [
    {
     "name": "stdout",
     "output_type": "stream",
     "text": [
      "656\n"
     ]
    }
   ],
   "source": [
    "response_length = struct.unpack('>H',bytearray.fromhex('0290'))[0]\n",
    "print(response_length)"
   ]
  },
  {
   "cell_type": "code",
   "execution_count": 68,
   "id": "0504a97e-c31e-40a7-8ba1-e456d3b0892e",
   "metadata": {},
   "outputs": [
    {
     "data": {
      "text/plain": [
       "1320"
      ]
     },
     "execution_count": 68,
     "metadata": {},
     "output_type": "execute_result"
    }
   ],
   "source": [
    "656*2+8"
   ]
  },
  {
   "cell_type": "code",
   "execution_count": 70,
   "id": "798cac24-37af-4f54-a0f0-4c74a43522c6",
   "metadata": {},
   "outputs": [
    {
     "name": "stdout",
     "output_type": "stream",
     "text": [
      "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\n"
     ]
    }
   ],
   "source": [
    "b64 = \"AAAAAJkNjhaywcv3MpJ9AwH3AEL4QdS\\/cA1EkZvkzf2eEUOZEoTFBPtNagKTfghSyZR470qmx7kB\\nKh\\/v4tR0aRDt6w3UOHrUsx65AGnVD5Du5DLsrPfemHBYBSkaC9ozPBT2Ss03rKG1cX9DLTYUHkcP\\nISFsQe7FqS9iMEEJNfPR4LMe2hL5Qd0knSIcB8dCjup4nhwK2aNOy2PmE4gruIJOdRVHw1yf9eSw\\nfQgQiqKSdDNtJEiiop2IGY21RoJP\\/vyjZrgTOt7wxWnzSDj5IK8ohhB3EfYTUFNL0b8ROZ6aEv6P\\nolRvI5iTv\\/cARKgQ2VD7WZdckPUKVwF2esaTJ4n4kAbRmyqx1CyDN8Luesv486OI0AWcH5oz+iJG\\nTN3QEofY8JRvUuS70GPndQPLTzEs6oNqNQuBX6im2kBrDszFQtzPqfrBlPnyw4+lIZybDlX9LZvF\\nw\\/fcy33uZIt3xjfb7\\/wxP3tQH8PaIXm5LAzuYBCq45EpOSpMjQjpCOYsNGVeAMRzlH2oa3LeXXkD\\nlfC4Eru0y56f3DN1ToDRclKJRLXnoSHwHN2ORyCAiw7P3+hKwTuyCzlQrg4TcY8ZWfHIJlydBbnQ\\nDVysZbbS8qnBw7h4coPOU1J\\/rjGViDZQ+37id8d+9xYxvoDJR6rJ\\/4xtziT3p12cXiLzKKdsGDO8\\ntFQ8o7WoOcwSXfZWjR2ktm0P3a3D1V11itPIwd235qSGi2lqZXfDVao0cI1gaAxajeyOUsxuUdqU\\niczSw2XgfghShXsyUU6bR5dT04J8vnxU49Hnxx669663VN8FS2jy9eITWsIvfjrMrXAxm4y4EnXn\\nrtUnjEDQ\\/D2E7uOrjS2VL91Iy7IU5mATmlYbTVEneW8B9APbo1o9thFUTgUCKg1JjzZvYoURviiL\\n\\/zVxpFaHcG5kELE8UwEMCRs7YaMhqc+k33jKYEeeEnGKIYNLDNV+YmqMWvezUcwyhcDJueuAvGws\\nuA9Awa17Yoa10jJsDdW\\/IXrx\\/UzGRuNPJIaM46Lajn5KR5GxllJK4tIT8eQuXTQZHptd48cpJFVa\\nX7hx0wYlQRCHmG4Ua52S62SQSIxUo512Eu4F0zhe9rfa0rrAvbgd9VK7dXGcGYxPouYkPw+AfGho\\nl0aNVHiahxTuD0\\/2yMpiDpAtTvb+s08LUWLjhe5RYQ9Z1Fdagi3Id5XnX65R4MwQNMBCBsVxQsv4\\nubripUt1AQqAAFmtrYlc+tepgfR0D+7t8E5+5KT\\/YgWTwDivg5x8xjfFpeRyrS8qR1Wfvqd9zc6g\\nnE0KfvbSwWPizMKeLFhOlOHjHveTS3Yr7D7U6Rrds6ltwRb9sr0RBtL1AaaYcCIg8bAYAocfvKDy\\ndFx0XfOX1LYTelW2DyTAElO9MjUcQbh\\/UNXxbvNU7QkXtPk9z9YhATRTZVnPTMXx7ScK6MpYmCG7\\nfp0gKuPj7ylsxr5RgT2fmQPbpOBHhavi1MhIefqJqZxZSJTEYaKPZK2PO2N+8lSRUiz76EeKkL8g\\n7VBGEDX7JwWy5fgrCNcBWRrFOO49OYAAJnd2Dme\\/nMHVK3rgvITGhNNRAlyJ\\/jVQHLlP2uYLwoHm\\nSddcomXQryrC2O6HDni\\/op\\/uQsDt3XC21UWLHiUQV8ILVGumhdkf6\\/x8rnIgc2NE35PQO2OyFEGd\\nIOFf3d\\/IU9NBqKlEf7j\\/Oc3RMFq4vx1ZicheCOp2NNKwEUG8b02WmuhMOMTLqwW571aatNv\\/fVci\\n0KwbGXSAjRNgKMj2zmzf4OvPqfHuqo91DUh5bdK3QSinznec0QW39nSl7iiNqPcwqJGO8fcKFGTG\\nwCQ1NwR57jYxf5ju4yCyscDIKrKdvGh7wf7hMv+ehFQDkfx5ixnoAiw0MzaIpCW25jT6B5s+Kucz\\nnJ1kqMvSk4huOpkAk3k5ITHzW7CkIqnfxTrM+e6vW5HJ8ne7tkJox6gXG7iXRhakmYgyVa6nf1W5\\nzAglWa2fkdw9aEAAHyyRtgHUL9l8OrpAqTioB1\\/JiMjcxswOowgI8\\/qlx2A0kdANuBR0NaeIndlQ\\ns7MhDz1h\\/tQJQ3ogpnuVW+4\\/4QF6vIzl7cxC4O+8mVGO0uL0qP2WcrHI3cyKq0eJNAiCITeANiZT\\nK49odoYbzbOfcqOKIFxF23MMwp+21mYBYc3mp\\/6kbZJa85tkr++CPh38jeqTcg0JsE9lus48+eGW\\n90Fe2X+0\\/ewBtboniGPdtm5\\/KTCMRXkhLVMWBAPR\\/rbHRCGb75fbzyRUM+msW9b925LKryQWqas1\\n+H2E0xGGfixqPPgm3zVH0ATLw3KuNmYZv\\/7LibkY9fQsD4yimWdNwL181fONJ8D1AyKCk4cfeTW5\\nmAg3mf6SBIxXgIktZ2HdOSvw0DJxBUFLdP69gzrb0f\\/M\\n\"\n",
    "\n",
    "byte_str = base64.b64decode(b64).hex()\n",
    "\n",
    "print(byte_str)"
   ]
  },
  {
   "cell_type": "code",
   "execution_count": null,
   "id": "f56c5115-1db3-4aa1-b5f5-b5c466358df4",
   "metadata": {},
   "outputs": [],
   "source": []
  }
 ],
 "metadata": {
  "kernelspec": {
   "display_name": "scio",
   "language": "python",
   "name": "scio"
  },
  "language_info": {
   "codemirror_mode": {
    "name": "ipython",
    "version": 3
   },
   "file_extension": ".py",
   "mimetype": "text/x-python",
   "name": "python",
   "nbconvert_exporter": "python",
   "pygments_lexer": "ipython3",
   "version": "3.10.9"
  }
 },
 "nbformat": 4,
 "nbformat_minor": 5
}
