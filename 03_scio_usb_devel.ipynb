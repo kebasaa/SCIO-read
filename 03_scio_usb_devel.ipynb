{
 "cells": [
  {
   "cell_type": "markdown",
   "id": "4493f2ef-302d-4924-b8cf-72678d653dc7",
   "metadata": {
    "tags": []
   },
   "source": [
    "# Python USB library for the Consumer Physics SCIO\n",
    "\n",
    "__*IMPORTANT NOTE*__: This file contains the entire library (for testing and development purposes), but it is advisable to instead import the library. Refer to the other Jupyter notebook for that use.\n",
    "\n",
    "### Dependencies\n",
    "- pySerial"
   ]
  },
  {
   "cell_type": "code",
   "execution_count": 10,
   "id": "67005b5a-8221-45ef-ba05-24f187824037",
   "metadata": {},
   "outputs": [],
   "source": [
    "import json\n",
    "import struct\n",
    "import logging\n",
    "import serial\n",
    "import serial.tools.list_ports as pyserial\n",
    "#from serial.tools import list_ports_common # Not sure I need this?\n",
    "\n",
    "# Logging/output format setup\n",
    "log = logging.getLogger('root')\n",
    "log.setLevel(logging.DEBUG)\n",
    "logging.basicConfig(format='[%(asctime)s] %(levelname)8s: %(message)s', datefmt='%Y-%m-%d %H:%M:%S')"
   ]
  },
  {
   "cell_type": "code",
   "execution_count": 13,
   "id": "d1c5cf41-694d-45da-8471-2df7c9fb7747",
   "metadata": {},
   "outputs": [],
   "source": [
    "# Search for device\n",
    "def search_scio_usb(silent=False):\n",
    "    if not silent: print('Searching for devices:')\n",
    "    scio_ID = '0451:16AA'\n",
    "    device_list = []\n",
    "    # Find the scio port. Returns an empty list if not found\n",
    "    scio_port = list(pyserial.grep(scio_ID))\n",
    "    if(len(scio_port) == 0):\n",
    "        print('  - Device not found. Try a long press (device should respond with blue blinking)')\n",
    "        return(device_list)\n",
    "    device_list.append({'address': scio_port[0].device, 'id': scio_ID})\n",
    "\n",
    "    return(device_list)\n",
    "\n",
    "class scio_usb:\n",
    "    def __init__(self, address):\n",
    "        self.address = address\n",
    "        self.client = None\n",
    "        self.disconnected = True\n",
    "        self.cmd_base_protocol = -70\n",
    "        self.cmd_temp = 4\n",
    "        self.cmd_scan = 2\n",
    "        \n",
    "    async def connect(self):\n",
    "        try:\n",
    "            self.client = serial.Serial(self.address)\n",
    "            self.disconnected = False\n",
    "        except Exception as e:\n",
    "            logging.error(f'Failed to connect to {self.address}: {e}')\n",
    "            raise\n",
    "        pass\n",
    "    \n",
    "    async def disconnect(self):\n",
    "        if not self.disconnected:\n",
    "            try:\n",
    "                self.client.close()\n",
    "            except Exception as e:\n",
    "                logging.error(f'Failed to disconnect from {self.address}: {e}')\n",
    "                raise\n",
    "            finally:\n",
    "                self.disconnected = True\n",
    "        pass\n",
    "        \n",
    "    def create_command(self, cmd):\n",
    "        if(cmd == SET_LED):\n",
    "            # Setting the LED colour is special (longer command)\n",
    "            byte_cmd = struct.pack('<bbbbbbbbbbbbbbb',1,self.cmd_base_protocol,cmd,9,0,0,0,0,0,0,0,0,0,0)\n",
    "        else:\n",
    "            byte_cmd = struct.pack('<bbbbb',1,self.cmd_base_protocol,cmd,0,0)\n",
    "        return(byte_cmd)\n",
    "    \n",
    "    async def send_command(self, byte_cmd):\n",
    "        try:\n",
    "            self.client.write(byte_cmd)\n",
    "        except Exception as e:\n",
    "            logging.error(f'Failed to send command to {self.address}: {e}')\n",
    "            raise\n",
    "        pass\n",
    "    \n",
    "    async def read_response(self):\n",
    "        try:\n",
    "            pass# TODO\n",
    "        except Exception as e:\n",
    "            logging.error(f'Failed to read command from {self.address}: {e}')\n",
    "            raise\n",
    "        pass\n",
    "    \n",
    "    def parse_response(self, raw_response):\n",
    "        # TODO\n",
    "        return(raw_response)\n",
    "    \n",
    "    async def read_test(self):\n",
    "        service_uuid = self.uuid_test\n",
    "        current_service = self.base_service_uuid.replace('xxxx', service_uuid)\n",
    "        \n",
    "        try:\n",
    "            test = await self.client.read_gatt_char(current_service)\n",
    "            return test\n",
    "        except Exception as e:\n",
    "            logging.error(f'Failed to model nb from {self.address}: {e}')\n",
    "            raise\n",
    "        pass\n",
    "    \n",
    "    async def run(self, logfile, silent=True):\n",
    "        if not silent: print('  - Connecting to device')\n",
    "        await self.connect()\n",
    "        \n",
    "        # TEST\n",
    "        #try:\n",
    "        #    test = await self.read_test()\n",
    "        #except:\n",
    "        #    pass\n",
    "        #print(len(test))\n",
    "        #print(struct.unpack('<II', test))\n",
    "        \n",
    "        # Tell it to read temperature\n",
    "        #await self.cmd_temperature()\n",
    "        # Read the reply\n",
    "        #test = await self.read_cmd_reply()\n",
    "        #print(test)\n",
    "        \n",
    "        \n",
    "        if not silent: print('  - Disconnecting')\n",
    "        await self.disconnect()\n",
    "        \n",
    "        return"
   ]
  },
  {
   "cell_type": "code",
   "execution_count": 15,
   "id": "4ec94fa8-4922-4c2e-a80b-268d7e90ebf5",
   "metadata": {},
   "outputs": [
    {
     "name": "stdout",
     "output_type": "stream",
     "text": [
      "Searching for devices:\n",
      "  - Found device at  COM5\n",
      "  - Connecting to device\n",
      "  - Disconnecting\n",
      "Done...\n"
     ]
    }
   ],
   "source": [
    "logfile = './logfile.csv'\n",
    "\n",
    "# Search for devices\n",
    "device_list = search_scio_usb()\n",
    "if(len(device_list) == 0):\n",
    "    print('  - Device not found, make sure it is broadcasting through a long press')\n",
    "else:\n",
    "    # Note: No support for multiple Apogee devices. This takes the first one found!\n",
    "    device_address = device_list[0]['address']\n",
    "    print('  - Found device at', device_address)\n",
    "    # Now set up device\n",
    "    scio = scio_usb(device_address) # Create an instance for this device address\n",
    "    await scio.run(logfile, silent=False)\n",
    "print('Done...')"
   ]
  },
  {
   "cell_type": "code",
   "execution_count": null,
   "id": "586d168b-c5d1-43d2-ab84-760ec7f115eb",
   "metadata": {},
   "outputs": [],
   "source": [
    "device_list = await search_scio_ble(3)\n",
    "print(device_list)"
   ]
  },
  {
   "cell_type": "code",
   "execution_count": null,
   "id": "8f5df0d0-be02-4b98-8fdc-cf740e021904",
   "metadata": {},
   "outputs": [],
   "source": []
  },
  {
   "cell_type": "code",
   "execution_count": null,
   "id": "b409c8c4-15d3-469c-ae90-37af73c61441",
   "metadata": {},
   "outputs": [],
   "source": []
  },
  {
   "cell_type": "code",
   "execution_count": null,
   "id": "ca3b9904-2bc1-4517-9210-a9a9e9c71e7e",
   "metadata": {},
   "outputs": [],
   "source": []
  },
  {
   "cell_type": "code",
   "execution_count": null,
   "id": "4c336e21-5fa5-455a-8bf5-1a74662fd158",
   "metadata": {},
   "outputs": [],
   "source": []
  },
  {
   "cell_type": "code",
   "execution_count": null,
   "id": "fe3d3219-88be-404e-8a6d-81a24fc79a76",
   "metadata": {},
   "outputs": [],
   "source": []
  },
  {
   "cell_type": "code",
   "execution_count": null,
   "id": "832929b3-baf3-4eee-a8d5-dbc351310cf1",
   "metadata": {},
   "outputs": [],
   "source": []
  }
 ],
 "metadata": {
  "kernelspec": {
   "display_name": "scio",
   "language": "python",
   "name": "scio"
  },
  "language_info": {
   "codemirror_mode": {
    "name": "ipython",
    "version": 3
   },
   "file_extension": ".py",
   "mimetype": "text/x-python",
   "name": "python",
   "nbconvert_exporter": "python",
   "pygments_lexer": "ipython3",
   "version": "3.10.9"
  }
 },
 "nbformat": 4,
 "nbformat_minor": 5
}
