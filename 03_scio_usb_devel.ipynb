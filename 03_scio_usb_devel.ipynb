{
 "cells": [
  {
   "cell_type": "markdown",
   "id": "4493f2ef-302d-4924-b8cf-72678d653dc7",
   "metadata": {
    "tags": []
   },
   "source": [
    "# Python USB library for the Consumer Physics SCIO\n",
    "\n",
    "__*IMPORTANT NOTE*__: This file contains the entire library (for testing and development purposes), but it is advisable to instead import the library. Refer to the other Jupyter notebook for that use.\n",
    "\n",
    "### Dependencies\n",
    "- pySerial"
   ]
  },
  {
   "cell_type": "code",
   "execution_count": 1,
   "id": "67005b5a-8221-45ef-ba05-24f187824037",
   "metadata": {},
   "outputs": [],
   "source": [
    "import json\n",
    "import struct\n",
    "import logging\n",
    "import serial\n",
    "import serial.tools.list_ports as pyserial\n",
    "#from serial.tools import list_ports_common # Not sure I need this?\n",
    "\n",
    "# Logging/output format setup\n",
    "log = logging.getLogger('root')\n",
    "log.setLevel(logging.DEBUG)\n",
    "logging.basicConfig(format='[%(asctime)s] %(levelname)8s: %(message)s', datefmt='%Y-%m-%d %H:%M:%S')"
   ]
  },
  {
   "cell_type": "code",
   "execution_count": 3,
   "id": "d1c5cf41-694d-45da-8471-2df7c9fb7747",
   "metadata": {},
   "outputs": [
    {
     "ename": "SyntaxError",
     "evalue": "'await' outside async function (73462388.py, line 28)",
     "output_type": "error",
     "traceback": [
      "\u001b[1;36m  Cell \u001b[1;32mIn[3], line 28\u001b[1;36m\u001b[0m\n\u001b[1;33m    await self.client.connect()\u001b[0m\n\u001b[1;37m    ^\u001b[0m\n\u001b[1;31mSyntaxError\u001b[0m\u001b[1;31m:\u001b[0m 'await' outside async function\n"
     ]
    }
   ],
   "source": [
    "# Search for device\n",
    "def search_scio_usb(silent=False):\n",
    "    if not silent: print('Searching for devices:')\n",
    "    scio_ID = '0451:16AA'\n",
    "    device_list = []\n",
    "    # Find the scio port. Returns an empty list if not found\n",
    "    scio_port = list(pyserial.grep(scio_ID))\n",
    "    if(len(scio_port) == 0):\n",
    "        print('  - Device not found. Try a long press (device should respond with blue blinking)')\n",
    "        return(device_list)\n",
    "    device_list.append({'address': scio_port[0].device, 'id': scio_ID})\n",
    "\n",
    "    return(device_list)\n",
    "\n",
    "class scio_usb:\n",
    "    def __init__(self, address):\n",
    "        self.address = address\n",
    "        self.client = None\n",
    "        self.disconnected = True\n",
    "        self.cmd_base_protocol = -70\n",
    "        self.cmd_temp = 4\n",
    "        self.cmd_scan = 2\n",
    "        \n",
    "    async def connect(self):\n",
    "        try:\n",
    "            self.client = serial.Serial(self.address)\n",
    "            self.disconnected = False\n",
    "        except Exception as e:\n",
    "            logging.error(f'Failed to connect to {self.address}: {e}')\n",
    "            raise\n",
    "        pass\n",
    "    \n",
    "    async def disconnect(self):\n",
    "        if not self.disconnected:\n",
    "            try:\n",
    "                await self.client.close()\n",
    "            except Exception as e:\n",
    "                logging.error(f'Failed to disconnect from {self.address}: {e}')\n",
    "                raise\n",
    "            finally:\n",
    "                self.disconnected = True\n",
    "        pass\n",
    "        \n",
    "    def create_command(self):\n",
    "        byte_msg = protocol_message(command)\n",
    "        return(cmd)\n",
    "    \n",
    "    def parse_response(self, raw_response):\n",
    "        return(raw_response)\n",
    "    \n",
    "    async def send_command(self, cmd):\n",
    "        try:\n",
    "            ser.write(byte_msg) # write the message to the serial device\n",
    "        except Exception as e:\n",
    "            logging.error(f'Failed to send command to {self.address}: {e}')\n",
    "            raise\n",
    "        pass\n",
    "    \n",
    "    async def read_response(self):\n",
    "        try:\n",
    "            # SOMETHING\n",
    "        except Exception as e:\n",
    "            logging.error(f'Failed to read command from {self.address}: {e}')\n",
    "            raise\n",
    "        pass\n",
    "    \n",
    "    async def run(self, logfile, silent=True):\n",
    "        if not silent: print('  - Connecting to device')\n",
    "        try:\n",
    "            await self.connect()\n",
    "        except:\n",
    "            return\n",
    "        \n",
    "        # TEST\n",
    "        #try:\n",
    "        #    test = await self.read_test()\n",
    "        #except:\n",
    "        #    pass\n",
    "        #print(len(test))\n",
    "        #print(struct.unpack('<II', test))\n",
    "        \n",
    "        # Tell it to read temperature\n",
    "        await self.cmd_temperature()\n",
    "        # Read the reply\n",
    "        test = await self.read_cmd_reply()\n",
    "        print(test)\n",
    "        \n",
    "        \n",
    "        if not silent: print('  - Disconnecting')\n",
    "        await self.disconnect()\n",
    "        \n",
    "        return\n",
    "    \n",
    "\n",
    "    \n",
    "    async def read_test(self):\n",
    "        service_uuid = self.uuid_test\n",
    "        current_service = self.base_service_uuid.replace('xxxx', service_uuid)\n",
    "        \n",
    "        try:\n",
    "            test = await self.client.read_gatt_char(current_service)\n",
    "            return test\n",
    "        except Exception as e:\n",
    "            logging.error(f'Failed to model nb from {self.address}: {e}')\n",
    "            raise\n",
    "        pass"
   ]
  },
  {
   "cell_type": "code",
   "execution_count": 81,
   "id": "4ec94fa8-4922-4c2e-a80b-268d7e90ebf5",
   "metadata": {},
   "outputs": [
    {
     "name": "stdout",
     "output_type": "stream",
     "text": [
      "Searching for devices:\n",
      "  - Search time: 0s\n",
      "  - Found device at address B4:99:4C:59:66:01\n",
      "  - Connecting to device\n",
      "bytearray(b'01ba040000\\x00\\x00\\x00\\x00\\x00\\x00\\x00\\x00\\x00\\x00')\n",
      "11\n"
     ]
    },
    {
     "ename": "error",
     "evalue": "unpack requires a buffer of 8 bytes",
     "output_type": "error",
     "traceback": [
      "\u001b[1;31m---------------------------------------------------------------------------\u001b[0m",
      "\u001b[1;31merror\u001b[0m                                     Traceback (most recent call last)",
      "Cell \u001b[1;32mIn[81], line 13\u001b[0m\n\u001b[0;32m     11\u001b[0m     \u001b[38;5;66;03m# Now set up device\u001b[39;00m\n\u001b[0;32m     12\u001b[0m     scio \u001b[38;5;241m=\u001b[39m scio_ble(device_address) \u001b[38;5;66;03m# Create an instance for this device address\u001b[39;00m\n\u001b[1;32m---> 13\u001b[0m     \u001b[38;5;28;01mawait\u001b[39;00m scio\u001b[38;5;241m.\u001b[39mrun(logfile, silent\u001b[38;5;241m=\u001b[39m\u001b[38;5;28;01mFalse\u001b[39;00m)\n\u001b[0;32m     14\u001b[0m \u001b[38;5;28mprint\u001b[39m(\u001b[38;5;124m'\u001b[39m\u001b[38;5;124mDone...\u001b[39m\u001b[38;5;124m'\u001b[39m)\n",
      "Cell \u001b[1;32mIn[79], line 82\u001b[0m, in \u001b[0;36mscio_ble.run\u001b[1;34m(self, logfile, silent)\u001b[0m\n\u001b[0;32m     80\u001b[0m \u001b[38;5;28;01mawait\u001b[39;00m \u001b[38;5;28mself\u001b[39m\u001b[38;5;241m.\u001b[39mcmd_temperature()\n\u001b[0;32m     81\u001b[0m \u001b[38;5;66;03m# Read the reply\u001b[39;00m\n\u001b[1;32m---> 82\u001b[0m test \u001b[38;5;241m=\u001b[39m \u001b[38;5;28;01mawait\u001b[39;00m \u001b[38;5;28mself\u001b[39m\u001b[38;5;241m.\u001b[39mread_cmd_reply()\n\u001b[0;32m     83\u001b[0m \u001b[38;5;28mprint\u001b[39m(test)\n\u001b[0;32m     86\u001b[0m \u001b[38;5;28;01mif\u001b[39;00m \u001b[38;5;129;01mnot\u001b[39;00m silent: \u001b[38;5;28mprint\u001b[39m(\u001b[38;5;124m'\u001b[39m\u001b[38;5;124m  - Disconnecting\u001b[39m\u001b[38;5;124m'\u001b[39m)\n",
      "Cell \u001b[1;32mIn[79], line 116\u001b[0m, in \u001b[0;36mscio_ble.read_cmd_reply\u001b[1;34m(self)\u001b[0m\n\u001b[0;32m    114\u001b[0m \u001b[38;5;28;01mif\u001b[39;00m(protocol[\u001b[38;5;241m2\u001b[39m] \u001b[38;5;241m==\u001b[39m \u001b[38;5;241m4\u001b[39m): \u001b[38;5;66;03m# Temperature response\u001b[39;00m\n\u001b[0;32m    115\u001b[0m     \u001b[38;5;28mprint\u001b[39m(raw_reply)\n\u001b[1;32m--> 116\u001b[0m     reply \u001b[38;5;241m=\u001b[39m \u001b[38;5;28;43mself\u001b[39;49m\u001b[38;5;241;43m.\u001b[39;49m\u001b[43mdecode_temperature\u001b[49m\u001b[43m(\u001b[49m\u001b[43mraw_reply\u001b[49m\u001b[43m[\u001b[49m\u001b[38;5;241;43m8\u001b[39;49m\u001b[43m:\u001b[49m\u001b[43m]\u001b[49m\u001b[43m)\u001b[49m\n\u001b[0;32m    117\u001b[0m     \u001b[38;5;28;01mreturn\u001b[39;00m reply\n\u001b[0;32m    118\u001b[0m \u001b[38;5;28;01mreturn\u001b[39;00m(reply)\n",
      "Cell \u001b[1;32mIn[79], line 125\u001b[0m, in \u001b[0;36mscio_ble.decode_temperature\u001b[1;34m(self, raw_data)\u001b[0m\n\u001b[0;32m    123\u001b[0m num_vars \u001b[38;5;241m=\u001b[39m \u001b[38;5;28mlen\u001b[39m(raw_data) \u001b[38;5;241m/\u001b[39m \u001b[38;5;241m4\u001b[39m \u001b[38;5;66;03m# divide by 4 because we are dealing with longs\u001b[39;00m\n\u001b[0;32m    124\u001b[0m data_struct \u001b[38;5;241m=\u001b[39m \u001b[38;5;124m'\u001b[39m\u001b[38;5;124m<\u001b[39m\u001b[38;5;124m'\u001b[39m \u001b[38;5;241m+\u001b[39m \u001b[38;5;28mstr\u001b[39m(\u001b[38;5;28mint\u001b[39m(num_vars)) \u001b[38;5;241m+\u001b[39m \u001b[38;5;124m'\u001b[39m\u001b[38;5;124mL\u001b[39m\u001b[38;5;124m'\u001b[39m \u001b[38;5;66;03m# This is '<3l' or '<lll'\u001b[39;00m\n\u001b[1;32m--> 125\u001b[0m message_data \u001b[38;5;241m=\u001b[39m \u001b[43mstruct\u001b[49m\u001b[38;5;241;43m.\u001b[39;49m\u001b[43munpack\u001b[49m\u001b[43m(\u001b[49m\u001b[43mdata_struct\u001b[49m\u001b[43m,\u001b[49m\u001b[43m \u001b[49m\u001b[43mraw_data\u001b[49m\u001b[43m)\u001b[49m\n\u001b[0;32m    126\u001b[0m \u001b[38;5;28mprint\u001b[39m(raw_data)\n\u001b[0;32m    127\u001b[0m \u001b[38;5;28mprint\u001b[39m(message_data)\n",
      "\u001b[1;31merror\u001b[0m: unpack requires a buffer of 8 bytes"
     ]
    }
   ],
   "source": [
    "logfile = './logfile.csv'\n",
    "\n",
    "# Search for devices\n",
    "device_list = await search_scio_usb()\n",
    "if(len(device_list) == 0):\n",
    "    print('  - Device not found, make sure it is broadcasting through a long press')\n",
    "else:\n",
    "    # Note: No support for multiple Apogee devices. This takes the first one found!\n",
    "    device_address = device_list[0]['address']\n",
    "    print('  - Found device at address', device_address)\n",
    "    # Now set up device\n",
    "    scio = scio_usb(device_address) # Create an instance for this device address\n",
    "    scio.run(logfile, silent=False)\n",
    "print('Done...')"
   ]
  },
  {
   "cell_type": "code",
   "execution_count": null,
   "id": "586d168b-c5d1-43d2-ab84-760ec7f115eb",
   "metadata": {},
   "outputs": [],
   "source": [
    "device_list = await search_scio_ble(3)\n",
    "print(device_list)"
   ]
  },
  {
   "cell_type": "code",
   "execution_count": null,
   "id": "8f5df0d0-be02-4b98-8fdc-cf740e021904",
   "metadata": {},
   "outputs": [],
   "source": []
  },
  {
   "cell_type": "code",
   "execution_count": null,
   "id": "b409c8c4-15d3-469c-ae90-37af73c61441",
   "metadata": {},
   "outputs": [],
   "source": []
  },
  {
   "cell_type": "code",
   "execution_count": null,
   "id": "ca3b9904-2bc1-4517-9210-a9a9e9c71e7e",
   "metadata": {},
   "outputs": [],
   "source": []
  },
  {
   "cell_type": "code",
   "execution_count": null,
   "id": "4c336e21-5fa5-455a-8bf5-1a74662fd158",
   "metadata": {},
   "outputs": [],
   "source": []
  },
  {
   "cell_type": "code",
   "execution_count": null,
   "id": "fe3d3219-88be-404e-8a6d-81a24fc79a76",
   "metadata": {},
   "outputs": [],
   "source": []
  },
  {
   "cell_type": "code",
   "execution_count": null,
   "id": "832929b3-baf3-4eee-a8d5-dbc351310cf1",
   "metadata": {},
   "outputs": [],
   "source": []
  }
 ],
 "metadata": {
  "kernelspec": {
   "display_name": "scio",
   "language": "python",
   "name": "scio"
  },
  "language_info": {
   "codemirror_mode": {
    "name": "ipython",
    "version": 3
   },
   "file_extension": ".py",
   "mimetype": "text/x-python",
   "name": "python",
   "nbconvert_exporter": "python",
   "pygments_lexer": "ipython3",
   "version": "3.10.9"
  }
 },
 "nbformat": 4,
 "nbformat_minor": 5
}
